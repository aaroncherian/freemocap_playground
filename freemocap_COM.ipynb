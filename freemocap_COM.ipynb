{
 "cells": [
  {
   "cell_type": "code",
   "execution_count": 68,
   "metadata": {},
   "outputs": [],
   "source": [
    "import numpy as np\n",
    "import pandas as pd\n",
    "import matplotlib.pyplot as plt\n",
    "from pathlib import Path \n",
    "#from rich import inspect"
   ]
  },
  {
   "cell_type": "code",
   "execution_count": 69,
   "metadata": {},
   "outputs": [],
   "source": [
    "## Build'n'Load Stuff (paths and arrays)\n",
    "freemocap_validation_data_path = Path(r\"C:\\Users\\aaron\\Documents\\HumonLab\\Spring2022\\ValidationStudy\\FreeMocap_Data\") #path to your data folder\n",
    "sessionID = 'session_SER_1_20_22' #name of the sessionID folder\n",
    "this_freemocap_session_path = freemocap_validation_data_path / sessionID\n",
    "this_freemocap_data_path = this_freemocap_session_path/'DataArrays'\n",
    "mediapipe_data_path = this_freemocap_data_path / 'mediaPipeSkel_3d_smoothed.npy'\n"
   ]
  },
  {
   "cell_type": "code",
   "execution_count": 70,
   "metadata": {},
   "outputs": [],
   "source": [
    "\n",
    "mediapipeSkel_fr_mar_dim = np.load(mediapipe_data_path) #loads in the data as a numpy array"
   ]
  },
  {
   "cell_type": "code",
   "execution_count": 71,
   "metadata": {},
   "outputs": [],
   "source": [
    "num_pose_joints = 33 #number of pose joints tracked by mediapipe \n",
    "\n",
    "\n",
    "\n",
    "\n",
    "pose_joint_range = range(num_pose_joints)\n",
    "frame_range = range(first_frame,last_frame)\n",
    "\n",
    "mediapipe_pose_data = mediapipeSkel_fr_mar_dim[:,pose_joint_range[0]:pose_joint_range[-1],:] #load just the pose joints into a data array\n",
    "\n",
    "num_frames = len(mediapipe_pose_data)\n",
    "\n",
    "num_frame_range = range(num_frames)\n",
    "\n",
    "skel_x = mediapipe_pose_data[:,:,0]\n",
    "skel_y = mediapipe_pose_data[:,:,1]\n",
    "skel_z = mediapipe_pose_data[:,:,2]"
   ]
  },
  {
   "cell_type": "code",
   "execution_count": 72,
   "metadata": {},
   "outputs": [],
   "source": [
    "\n",
    "#segments is a list of the body segments that we want the center of mass for. joint_connections is the corresponding joints that make up that segment in order of [proximal joint,distal joint]\n",
    "# segment_COM_lengths is a corresponding list of center of mass lengths for each segment, and segment_COM_percentages is a corresponding list of the percentage of total body COM each segment takes up. \n",
    "segments = [\n",
    "'right_upper_arm',\n",
    "'left_upper_arm',\n",
    "]\n",
    "\n",
    "joint_connections = [\n",
    "['right_shoulder','right_elbow'],\n",
    "['left_shoulder','left_elbow'],\n",
    "]\n",
    "\n",
    "segment_COM_lengths = [\n",
    ".5772,\n",
    ".5772,\n",
    "]\n",
    "segment_COM_percentages = [\n",
    ".0271,\n",
    ".0271,\n",
    "]\n",
    "\n",
    "num_segments = len(segments)"
   ]
  },
  {
   "cell_type": "code",
   "execution_count": 73,
   "metadata": {},
   "outputs": [],
   "source": [
    "\n",
    "#create a table with the joint connections, COM length, and percentage for each segment into a dataframe\n",
    "df = pd.DataFrame(list(zip(segments,joint_connections,segment_COM_lengths,segment_COM_percentages)),columns = ['Segment Name','Joint Connection','Segment COM Length','Segment COM Percentage'])\n",
    "\n",
    "#create a new copy of this dataframe where the index is set to be the body segment (as opposed to 0,1,2 etc.)\n",
    "segment_conn_len_perc_dataframe = df.set_index('Segment Name')\n"
   ]
  },
  {
   "cell_type": "code",
   "execution_count": 74,
   "metadata": {},
   "outputs": [],
   "source": [
    "def build_mediapipe_skeleton(mediapipe_pose_data,segment_dataframe):\n",
    "    \"\"\" This function takes in the mediapipe pose data array and the segment_conn_len_perc_dataframe. \n",
    "        For each frame of data, it loops through each segment we want to find and identifies the names\n",
    "        of the proximal and distal joints of that segment. Then it searches the mediapipe_indices list\n",
    "        to find the index that corresponds to the name of that segment. We plug the index into the \n",
    "        mediapipe_pose_data array to find the proximal/distal joints' XYZ coordinates at that frame. \n",
    "        The segment, its proximal joint and its distal joint gets thrown into a dictionary. \n",
    "        And then that dictionary gets saved to a list for each frame. By the end of the function, you \n",
    "        have a list that contains the skeleton segment XYZ coordinates for each frame.\"\"\"\n",
    "    \n",
    "    #this is a list of the 33 pose joints that mediapipe tracks\n",
    "    mediapipe_indices = [\n",
    "    'nose',\n",
    "    'right_eye_inner',\n",
    "    'right_eye',\n",
    "    'right_eye_outer',\n",
    "    'left_eye_inner',\n",
    "    'left_eye',\n",
    "    'left_eye_outer',\n",
    "    'right_ear',\n",
    "    'left_ear',\n",
    "    'mouth_right',\n",
    "    'mouth_left',\n",
    "    'right_shoulder',\n",
    "    'left_shoulder',\n",
    "    'right_elbow',\n",
    "    'left_elbow',\n",
    "    'right_wrist',\n",
    "    'left_wrist',\n",
    "    'right_pinky_1',\n",
    "    'left_pinky_1',\n",
    "    'right_index_1',\n",
    "    'left_index_1',\n",
    "    'right_thumb_2',\n",
    "    'left_thumb_2',\n",
    "    'right_hip',\n",
    "    'left_hip',\n",
    "    'right_knee',\n",
    "    'left_knee',\n",
    "    'right_ankle',\n",
    "    'left_ankle',\n",
    "    'right_heel',\n",
    "    'left_heel',\n",
    "    'right_foot_index',\n",
    "    'left_foot_index'\n",
    "    ]\n",
    "  \n",
    "    mediapipe_frame_segment_joint_XYZ = [] #empty list to hold all the skeleton XYZ coordinates/frame\n",
    "    for frame in num_frame_range: #NOTE: need to change frame_range to numFrames 2/09/2022 - AC\n",
    "        mediapipe_pose_skeleton_coordinates = {}\n",
    "        for segment,segment_info in segment_conn_len_perc_dataframe.iterrows(): #iterate through the data frame by the segment name and all the info for that segment\n",
    "            proximal_joint_name = segment_info['Joint Connection'][0] \n",
    "            distal_joint_name = segment_info['Joint Connection'][1]\n",
    "\n",
    "            #get the mediapipe index for the proximal and distal joint for this segment\n",
    "            proximal_joint_index = mediapipe_indices.index(proximal_joint_name)\n",
    "            distal_joint_index = mediapipe_indices.index(distal_joint_name)\n",
    "\n",
    "            #use the mediapipe indices to get the XYZ coordinates for the prox/distal joints and throw it in a dictionary\n",
    "            mediapipe_pose_skeleton_coordinates[segment] = {'proximal':mediapipe_pose_data[frame,proximal_joint_index,:],'distal':mediapipe_pose_data[frame,distal_joint_index,:]}\n",
    "        mediapipe_frame_segment_joint_XYZ.append(mediapipe_pose_skeleton_coordinates)\n",
    "        f = 2 \n",
    "    \n",
    "    return mediapipe_frame_segment_joint_XYZ\n",
    "\n",
    "    f= 2\n",
    "skelcoordinates_frame_segment_joint_XYZ = build_mediapipe_skeleton(mediapipe_pose_data,segment_conn_len_perc_dataframe)\n",
    " \n",
    "\n",
    "\n",
    "f=2 "
   ]
  },
  {
   "cell_type": "code",
   "execution_count": 75,
   "metadata": {},
   "outputs": [],
   "source": [
    "def calculate_segment_COM(segment_conn_len_perc_dataframe,skelcoordinates_frame_segment_joint_XY):\n",
    "    segment_COM_frame_dict = []\n",
    "    for frame in num_frame_range:\n",
    "        segment_COM_dict = {}\n",
    "        for segment,segment_info in segment_conn_len_perc_dataframe.iterrows():\n",
    "\n",
    "            this_segment_XYZ = skelcoordinates_frame_segment_joint_XY[frame][segment]\n",
    "            this_segment_proximal = this_segment_XYZ['proximal']\n",
    "            this_segment_distal = this_segment_XYZ['distal']\n",
    "            this_segment_COM_length = segment_info['Segment COM Length']\n",
    "\n",
    "            this_segment_COM = this_segment_proximal + this_segment_COM_length*(this_segment_distal-this_segment_proximal)\n",
    "            \n",
    "            segment_COM_dict[segment] = this_segment_COM\n",
    "        segment_COM_frame_dict.append(segment_COM_dict)\n",
    "    return segment_COM_frame_dict\n",
    "    f = 2\n",
    "segment_COM_frame_dict = calculate_segment_COM(segment_conn_len_perc_dataframe, skelcoordinates_frame_segment_joint_XYZ)\n",
    "\n",
    "def reformat_segment_COM(segment_COM_frame_dict):\n",
    "    \n",
    "    test_array = np.empty([int(len(num_frame_range)),int(num_segments),3])\n",
    "    for frame in num_frame_range:\n",
    "        this_frame_skeleton = segment_COM_frame_dict[frame]\n",
    "        for joint_count,segment in enumerate(this_frame_skeleton.keys()):\n",
    "            test_array[frame,joint_count,:] = this_frame_skeleton[segment]\n",
    "    return test_array\n",
    "\n",
    "segment_COM_frame_imgPoint_XYZ = reformat_segment_COM(segment_COM_frame_dict)\n",
    "\n",
    "f=2\n",
    "\n",
    "            \n",
    "\n"
   ]
  },
  {
   "cell_type": "code",
   "execution_count": 76,
   "metadata": {},
   "outputs": [],
   "source": [
    "good_frame = 6000\n",
    "goodframe_x = skel_x[good_frame,:]\n",
    "goodframe_y = skel_y[good_frame,:]\n",
    "goodframe_z = skel_z[good_frame,:]\n",
    "\n",
    "segment_COM_x = segment_COM_frame_imgPoint_XYZ[good_frame,:,0]\n",
    "segment_COM_y = segment_COM_frame_imgPoint_XYZ[good_frame,:,1]\n",
    "segment_COM_z = segment_COM_frame_imgPoint_XYZ[good_frame,:,2]\n",
    "\n"
   ]
  },
  {
   "cell_type": "markdown",
   "metadata": {},
   "source": [
    "def calculate_total_COM()"
   ]
  },
  {
   "cell_type": "code",
   "execution_count": 77,
   "metadata": {},
   "outputs": [
    {
     "name": "stdout",
     "output_type": "stream",
     "text": [
      "Using matplotlib backend: TkAgg\n"
     ]
    }
   ],
   "source": [
    "%matplotlib\n",
    "#plt.ion()\n",
    "figure = plt.figure()\n",
    "ax = figure.add_subplot(111, projection = '3d')\n",
    "ax.scatter(goodframe_x, goodframe_y,goodframe_z)\n",
    "ax.scatter(segment_COM_x,segment_COM_y,segment_COM_z)\n",
    "plt.show()\n",
    "# inspect(ax,methods= True)"
   ]
  },
  {
   "cell_type": "code",
   "execution_count": 25,
   "metadata": {},
   "outputs": [],
   "source": [
    "# #http://www.kdm.p.lodz.pl/articles/2017/3/21_3_4.pdf\n",
    "# r_upperarm_COM_x = goodframe_x[r_upperarm[0]] + (.5772)*(goodframe_x[r_upperarm[1]]-goodframe_x[r_upperarm[0]])\n",
    "# l_upperarm_COM_x = goodframe_x[l_upperarm[0]] + (.5772)*(goodframe_x[l_upperarm[1]]-goodframe_x[l_upperarm[0]])\n",
    "\n",
    "# r_forearm_COM_x = goodframe_x[r_forearm[0]] + (.4574)*(goodframe_x[r_forearm[1]]-goodframe_x[r_forearm[0]])\n",
    "# l_forearm_COM_x = goodframe_x[l_forearm[0]] + (.4574)*(goodframe_x[l_forearm[1]]-goodframe_x[l_forearm[0]])\n",
    "\n",
    "# r_upperarm_COM_y = goodframe_y[r_upperarm[0]] + (.5772)*(goodframe_y[r_upperarm[1]]-goodframe_y[r_upperarm[0]])\n",
    "# l_upperarm_COM_y = goodframe_y[l_upperarm[0]] + (.5772)*(goodframe_y[l_upperarm[1]]-goodframe_y[l_upperarm[0]])\n",
    "\n",
    "# r_forearm_COM_y = goodframe_y[r_forearm[0]] + (.4574)*(goodframe_y[r_forearm[1]]-goodframe_y[r_forearm[0]])\n",
    "# l_forearm_COM_y = goodframe_y[l_forearm[0]] + (.4574)*(goodframe_y[l_forearm[1]]-goodframe_y[l_forearm[0]])\n",
    "\n",
    "# segment_com_x = [r_upperarm_COM_x,l_upperarm_COM_x,r_forearm_COM_x,l_forearm_COM_x]\n",
    "# segment_com_y = [r_upperarm_COM_y,l_upperarm_COM_y,r_forearm_COM_y,l_forearm_COM_y]\n",
    "\n"
   ]
  }
 ],
 "metadata": {
  "interpreter": {
   "hash": "7209b8a8ab0da4d5958b83431eabd032171675b01e745e5357f6d1999f297cfd"
  },
  "kernelspec": {
   "display_name": "Python 3.9.0 64-bit ('fmc_validation': conda)",
   "language": "python",
   "name": "python3"
  },
  "language_info": {
   "codemirror_mode": {
    "name": "ipython",
    "version": 3
   },
   "file_extension": ".py",
   "mimetype": "text/x-python",
   "name": "python",
   "nbconvert_exporter": "python",
   "pygments_lexer": "ipython3",
   "version": "3.9.7"
  },
  "orig_nbformat": 4
 },
 "nbformat": 4,
 "nbformat_minor": 2
}
