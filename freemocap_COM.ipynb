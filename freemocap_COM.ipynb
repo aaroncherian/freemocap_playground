{
 "cells": [
  {
   "cell_type": "code",
   "execution_count": 124,
   "metadata": {},
   "outputs": [],
   "source": [
    "import numpy as np\n",
    "import pandas as pd\n",
    "import matplotlib.pyplot as plt\n",
    "from pathlib import Path \n",
    "#from rich import inspect"
   ]
  },
  {
   "cell_type": "code",
   "execution_count": 125,
   "metadata": {},
   "outputs": [],
   "source": [
    "## Build'n'Load Stuff (paths and arrays)\n",
    "freemocap_validation_data_path = Path(r\"C:\\Users\\aaron\\Documents\\HumonLab\\Spring2022\\ValidationStudy\\FreeMocap_Data\")\n",
    "sessionID = 'session_SER_1_20_22'\n",
    "this_freemocap_session_path = freemocap_validation_data_path / sessionID\n",
    "this_freemocap_data_path = this_freemocap_session_path/'DataArrays'\n",
    "mediapipe_data_path = this_freemocap_data_path / 'mediaPipeSkel_3d_smoothed.npy'\n"
   ]
  },
  {
   "cell_type": "code",
   "execution_count": 126,
   "metadata": {},
   "outputs": [],
   "source": [
    "\n",
    "mediapipeSkel_fr_mar_dim = np.load(mediapipe_data_path)"
   ]
  },
  {
   "cell_type": "code",
   "execution_count": 127,
   "metadata": {},
   "outputs": [],
   "source": [
    "num_pose_joints = 33\n",
    "first_frame = 0\n",
    "last_frame = 15000\n",
    "\n",
    "pose_joint_range = range(num_pose_joints)\n",
    "frame_range = range(first_frame,last_frame)\n",
    "\n",
    "mediapipe_pose_data = mediapipeSkel_fr_mar_dim[frame_range[0]:frame_range[-1],pose_joint_range[0]:pose_joint_range[-1],:]\n",
    "skel_x = mediapipe_pose_data[:,:,0]\n",
    "skel_y = mediapipe_pose_data[:,:,1]\n",
    "skel_z = mediapipe_pose_data[:,:,2]"
   ]
  },
  {
   "cell_type": "code",
   "execution_count": 128,
   "metadata": {},
   "outputs": [],
   "source": [
    "good_frame = 5000\n",
    "goodframe_x = skel_x[good_frame,:]\n",
    "goodframe_y = skel_y[good_frame,:]\n",
    "goodframe_z = skel_z[good_frame,:]\n",
    "# mediapipe_good_frame_data = mediaPipeSkel_fr_mar_dim[good_frame,:,:]\n",
    "# skel_x = mediapipe_good_frame_data[:,0]\n",
    "# skel_y = mediapipe_good_frame_data[:,1]\n",
    "# skel_z = mediapipe_good_frame_data[:,2]"
   ]
  },
  {
   "cell_type": "code",
   "execution_count": null,
   "metadata": {},
   "outputs": [],
   "source": []
  },
  {
   "cell_type": "code",
   "execution_count": 129,
   "metadata": {},
   "outputs": [],
   "source": [
    "def build_mediapipe_skeleton(mediapipe_pose_data):\n",
    "\n",
    "    r_shoulder_mp_index = 11\n",
    "    l_shoulder_mp_index = 12\n",
    "    r_elbow_mp_index = 13\n",
    "    l_elbow_mp_index = 14\n",
    "    r_wrist_mp_index = 15\n",
    "    l_wrist_mp_index = 16\n",
    "    r_hip_mp_index = 23\n",
    "    l_hip_mp_index = 24\n",
    "    r_knee_mp_index = 25\n",
    "    l_knee_mp_index = 26\n",
    "    r_ankle_mp_index = 27\n",
    "    l_ankle_mp_index = 28\n",
    "    r_heel_mp_index = 29\n",
    "    l_heel_mp_index = 30\n",
    "    r_foot_mp_index = 31\n",
    "    l_foot_mp_index = 32\n",
    "\n",
    "    #mediapipe_pose_skeleton_connections = {'r_upper_arm':{'proximal':r_shoulder_mp_index,'distal':r_elbow_mp_index},'l_upper_arm':{'proximal':l_shoulder_mp_index,'distal':l_elbow_mp_index}}\n",
    "    mediapipe_pose_skeleton_connections = {'r_upper_arm':[r_shoulder_mp_index,r_elbow_mp_index],'l_upper_arm':[l_shoulder_mp_index,l_elbow_mp_index],'r_forearm':[r_elbow_mp_index,r_wrist_mp_index], 'l_forearm':[l_elbow_mp_index,l_wrist_mp_index], 'r_thigh':[r_hip_mp_index,r_knee_mp_index],'l_thigh':[l_hip_mp_index,l_knee_mp_index],\n",
    "    'r_shank':[r_knee_mp_index,r_ankle_mp_index],'l_shank':[l_knee_mp_index,l_ankle_mp_index]}\n",
    "    mediapipe_pose_skeleton_coordinates = {}\n",
    "  \n",
    "    for body_segment in mediapipe_pose_skeleton_connections.keys():\n",
    "        proximal_joint_index = mediapipe_pose_skeleton_connections[body_segment][0]\n",
    "        distal_joint_index = mediapipe_pose_skeleton_connections[body_segment][1]\n",
    "        mediapipe_pose_skeleton_coordinates[body_segment] = {'proximal':mediapipe_pose_data[:,proximal_joint_index,:],'distal':mediapipe_pose_data[:,distal_joint_index,:]}\n",
    "\n",
    "    return mediapipe_pose_skeleton_coordinates\n",
    "    f= 2\n",
    "skelcoordinates_segment_joint_frames_XYZ = build_mediapipe_skeleton(mediapipe_pose_data)\n",
    "\n",
    "f=2 "
   ]
  },
  {
   "cell_type": "code",
   "execution_count": 130,
   "metadata": {},
   "outputs": [],
   "source": [
    "def calculate_segment_COM(frame,skelcoordinates_segment_joint_frames_XYZ):\n",
    "    \n",
    "    COM_segment_lengths = {'r_upper_arm':.5772,'l_upper_arm':.5772,'l_forearm':.4574, 'r_forearm':.4574,'r_thigh':.4095,'l_thigh':.4095,'r_shank':.4459,'l_shank':.4459}\n",
    "    coordinate_dict = {'x':0,'y':1,'z':2}\n",
    "    coordinate_COM = {'x':None,'y':None,'z':None}\n",
    "    segment_COM_dict = {}\n",
    "    segment_COM_x = []\n",
    "    segment_COM_y = []\n",
    "    segment_COM_z = []\n",
    "    for body_segment in skelcoordinates_segment_joint_frames_XYZ.keys():\n",
    "        this_segment = skelcoordinates_segment_joint_frames_XYZ[body_segment]\n",
    "        this_segment_proximal = this_segment['proximal']\n",
    "        this_segment_distal = this_segment['distal']\n",
    "        thisframe_coordinate_COM = coordinate_COM.copy()\n",
    "        for coordinate in coordinate_dict.keys():\n",
    "            coordinate_value = coordinate_dict[coordinate]\n",
    "            thisframe_coordinate_COM[coordinate] = this_segment_proximal[frame][coordinate_value] + COM_segment_lengths[body_segment]*(this_segment_distal[frame][coordinate_value]-this_segment_proximal[frame][coordinate_value])\n",
    "            f =2 \n",
    "        segment_COM_dict[body_segment]= thisframe_coordinate_COM\n",
    "        \n",
    "    return segment_COM_dict\n",
    "\n",
    "def reformat_segment_COM(segment_COM_dict):\n",
    "    segment_COM_x = []\n",
    "    segment_COM_y = []\n",
    "    segment_COM_z = []\n",
    "    \n",
    "    for body_segment in segment_COM_dict:\n",
    "        segment_COM_x.append(segment_COM_dict[body_segment]['x'])\n",
    "        segment_COM_y.append(segment_COM_dict[body_segment]['y'])\n",
    "        segment_COM_z.append(segment_COM_dict[body_segment]['z'])\n",
    "\n",
    "    return segment_COM_x,segment_COM_y,segment_COM_z\n",
    "\n",
    "\n",
    "\n",
    "segment_COM_dict = calculate_segment_COM(good_frame,skelcoordinates_segment_joint_frames_XYZ)\n",
    "segment_COM_x,segment_COM_y,segment_COM_z = reformat_segment_COM(segment_COM_dict)\n",
    "f = 2"
   ]
  },
  {
   "cell_type": "code",
   "execution_count": 131,
   "metadata": {},
   "outputs": [
    {
     "name": "stdout",
     "output_type": "stream",
     "text": [
      "Using matplotlib backend: TkAgg\n"
     ]
    }
   ],
   "source": [
    "%matplotlib\n",
    "plt.ion()\n",
    "figure = plt.figure()\n",
    "ax = figure.add_subplot(111, projection = '3d')\n",
    "ax.scatter(goodframe_x, goodframe_y,goodframe_z)\n",
    "ax.scatter(segment_COM_x,segment_COM_y,segment_COM_z)\n",
    "plt.show()\n",
    "# inspect(ax,methods= True)"
   ]
  },
  {
   "cell_type": "code",
   "execution_count": 25,
   "metadata": {},
   "outputs": [],
   "source": [
    "# #http://www.kdm.p.lodz.pl/articles/2017/3/21_3_4.pdf\n",
    "# r_upperarm_COM_x = goodframe_x[r_upperarm[0]] + (.5772)*(goodframe_x[r_upperarm[1]]-goodframe_x[r_upperarm[0]])\n",
    "# l_upperarm_COM_x = goodframe_x[l_upperarm[0]] + (.5772)*(goodframe_x[l_upperarm[1]]-goodframe_x[l_upperarm[0]])\n",
    "\n",
    "# r_forearm_COM_x = goodframe_x[r_forearm[0]] + (.4574)*(goodframe_x[r_forearm[1]]-goodframe_x[r_forearm[0]])\n",
    "# l_forearm_COM_x = goodframe_x[l_forearm[0]] + (.4574)*(goodframe_x[l_forearm[1]]-goodframe_x[l_forearm[0]])\n",
    "\n",
    "# r_upperarm_COM_y = goodframe_y[r_upperarm[0]] + (.5772)*(goodframe_y[r_upperarm[1]]-goodframe_y[r_upperarm[0]])\n",
    "# l_upperarm_COM_y = goodframe_y[l_upperarm[0]] + (.5772)*(goodframe_y[l_upperarm[1]]-goodframe_y[l_upperarm[0]])\n",
    "\n",
    "# r_forearm_COM_y = goodframe_y[r_forearm[0]] + (.4574)*(goodframe_y[r_forearm[1]]-goodframe_y[r_forearm[0]])\n",
    "# l_forearm_COM_y = goodframe_y[l_forearm[0]] + (.4574)*(goodframe_y[l_forearm[1]]-goodframe_y[l_forearm[0]])\n",
    "\n",
    "# segment_com_x = [r_upperarm_COM_x,l_upperarm_COM_x,r_forearm_COM_x,l_forearm_COM_x]\n",
    "# segment_com_y = [r_upperarm_COM_y,l_upperarm_COM_y,r_forearm_COM_y,l_forearm_COM_y]\n",
    "\n"
   ]
  },
  {
   "cell_type": "code",
   "execution_count": 6,
   "metadata": {},
   "outputs": [],
   "source": [
    "# %matplotlib\n",
    "# plt.ion()"
   ]
  },
  {
   "cell_type": "code",
   "execution_count": 8,
   "metadata": {},
   "outputs": [],
   "source": [
    "# ax.scatter(goodframe_x, goodframe_y, goodframe_z)\n",
    "# plt.show()"
   ]
  },
  {
   "cell_type": "code",
   "execution_count": 15,
   "metadata": {},
   "outputs": [],
   "source": [
    "# #x_com = x_proximal + (length_per)*(x_distal - x_proximal)\n",
    "\n",
    "# #arms\n",
    "# r_upperarm = [11,13]\n",
    "# r_forearm = [13,15]\n",
    "\n",
    "# l_upperarm = [12,14]\n",
    "# l_forearm = [14,16]\n",
    "\n",
    "# #legs\n",
    "# r_thigh = [23,25]\n",
    "# r_lowerleg = [25,27]\n",
    "# r_foot = [29,31]\n",
    "\n",
    "# l_thigh = [24,26]\n",
    "# l_lowerleg = [26,28]\n",
    "# l_foot = [30,32]\n"
   ]
  },
  {
   "cell_type": "code",
   "execution_count": null,
   "metadata": {},
   "outputs": [],
   "source": []
  },
  {
   "cell_type": "code",
   "execution_count": null,
   "metadata": {},
   "outputs": [],
   "source": [
    "#x_com = r_upperarm_COM_x*.00325 + l_upperarm_COM_x*.00325 + r_forearm_COM_x*"
   ]
  }
 ],
 "metadata": {
  "interpreter": {
   "hash": "7209b8a8ab0da4d5958b83431eabd032171675b01e745e5357f6d1999f297cfd"
  },
  "kernelspec": {
   "display_name": "Python 3.9.0 64-bit ('fmc_validation': conda)",
   "language": "python",
   "name": "python3"
  },
  "language_info": {
   "codemirror_mode": {
    "name": "ipython",
    "version": 3
   },
   "file_extension": ".py",
   "mimetype": "text/x-python",
   "name": "python",
   "nbconvert_exporter": "python",
   "pygments_lexer": "ipython3",
   "version": "3.9.7"
  },
  "orig_nbformat": 4
 },
 "nbformat": 4,
 "nbformat_minor": 2
}
