{
 "cells": [
  {
   "cell_type": "code",
   "execution_count": 2,
   "metadata": {},
   "outputs": [],
   "source": [
    "r_shoulder_mp_index = 11\n",
    "l_shoulder_mp_index = 12,\n",
    "r_elbow_mp_index = 13,\n",
    "l_elbow_mp_index = 14,\n",
    "r_wrist_mp_index = 15,\n",
    "l_wrist_mp_index = 16,\n",
    "r_hip_mp_index = 23,\n",
    "l_hip_mp_index = 24,\n",
    "r_ankle_mp_index = 27,\n",
    "l_ankle_mp_index = 28,\n",
    "r_heel_mp_index = 29,\n",
    "l_heel_mp_index = 30,\n",
    "r_foot_mp_index = 31,\n",
    "l_foot_mp_index = 32\n",
    "\n",
    "mp_pose_indexes = [r_shoulder_mp_index,l_shoulder_mp_index,r_elbow_mp_index,l_elbow_mp_index,r_wrist_mp_index,l_wrist_mp_index,\n",
    "r_hip_mp_index,l_hip_mp_index,r_ankle_mp_index,l_ankle_mp_index,r_heel_mp_index,l_heel_mp_index,r_foot_mp_index,l_foot_mp_index]"
   ]
  },
  {
   "cell_type": "code",
   "execution_count": 6,
   "metadata": {},
   "outputs": [
    {
     "ename": "TypeError",
     "evalue": "list indices must be integers or slices, not tuple",
     "output_type": "error",
     "traceback": [
      "\u001b[1;31m---------------------------------------------------------------------------\u001b[0m",
      "\u001b[1;31mTypeError\u001b[0m                                 Traceback (most recent call last)",
      "Input \u001b[1;32mIn [6]\u001b[0m, in \u001b[0;36m<module>\u001b[1;34m\u001b[0m\n\u001b[0;32m     19\u001b[0m     mediapipe_pose_skeleton_connections \u001b[38;5;241m=\u001b[39m {\u001b[38;5;124m'\u001b[39m\u001b[38;5;124mr_upper_arm\u001b[39m\u001b[38;5;124m'\u001b[39m:[r_shoulder_mp_index,r_elbow_mp_index],\u001b[38;5;124m'\u001b[39m\u001b[38;5;124ml_upper_arm\u001b[39m\u001b[38;5;124m'\u001b[39m:[l_shoulder_mp_index,l_elbow_mp_index]}\n\u001b[0;32m     20\u001b[0m     r_upper_arm \u001b[38;5;241m=\u001b[39m [mediapipe_pose_data[:,r_shoulder_mp_index,:],mediapipe_pose_data[:,r_elbow_mp_index,:]]\n\u001b[1;32m---> 22\u001b[0m \u001b[43mbuild_mediapipe_skeleton\u001b[49m\u001b[43m(\u001b[49m\u001b[43m[\u001b[49m\u001b[43m]\u001b[49m\u001b[43m)\u001b[49m\n",
      "Input \u001b[1;32mIn [6]\u001b[0m, in \u001b[0;36mbuild_mediapipe_skeleton\u001b[1;34m(mediapipe_pose_data)\u001b[0m\n\u001b[0;32m     16\u001b[0m l_foot_mp_index \u001b[38;5;241m=\u001b[39m \u001b[38;5;241m32\u001b[39m\n\u001b[0;32m     19\u001b[0m mediapipe_pose_skeleton_connections \u001b[38;5;241m=\u001b[39m {\u001b[38;5;124m'\u001b[39m\u001b[38;5;124mr_upper_arm\u001b[39m\u001b[38;5;124m'\u001b[39m:[r_shoulder_mp_index,r_elbow_mp_index],\u001b[38;5;124m'\u001b[39m\u001b[38;5;124ml_upper_arm\u001b[39m\u001b[38;5;124m'\u001b[39m:[l_shoulder_mp_index,l_elbow_mp_index]}\n\u001b[1;32m---> 20\u001b[0m r_upper_arm \u001b[38;5;241m=\u001b[39m [\u001b[43mmediapipe_pose_data\u001b[49m\u001b[43m[\u001b[49m\u001b[43m:\u001b[49m\u001b[43m,\u001b[49m\u001b[43mr_shoulder_mp_index\u001b[49m\u001b[43m,\u001b[49m\u001b[43m:\u001b[49m\u001b[43m]\u001b[49m,mediapipe_pose_data[:,r_elbow_mp_index,:]]\n",
      "\u001b[1;31mTypeError\u001b[0m: list indices must be integers or slices, not tuple"
     ]
    }
   ],
   "source": [
    "def build_mediapipe_skeleton(mediapipe_pose_data):\n",
    "\n",
    "    r_shoulder_mp_index = 11\n",
    "    l_shoulder_mp_index = 12\n",
    "    r_elbow_mp_index = 13\n",
    "    l_elbow_mp_index = 14\n",
    "    r_wrist_mp_index = 15\n",
    "    l_wrist_mp_index = 16\n",
    "    r_hip_mp_index = 23\n",
    "    l_hip_mp_index = 24\n",
    "    r_ankle_mp_index = 27\n",
    "    l_ankle_mp_index = 28\n",
    "    r_heel_mp_index = 29\n",
    "    l_heel_mp_index = 30\n",
    "    r_foot_mp_index = 31\n",
    "    l_foot_mp_index = 32\n",
    "\n",
    "\n",
    "    mediapipe_pose_skeleton_connections = {'r_upper_arm':[r_shoulder_mp_index,r_elbow_mp_index],'l_upper_arm':[l_shoulder_mp_index,l_elbow_mp_index]}\n",
    "    mediapipe_pose_skeleton_coordinates = {}\n",
    "  \n",
    "    for body_segment in mediapipe_pose_skeleton_connections.keys():\n",
    "        proximal_joint_index = mediapipe_pose_skeleton_connections[body_segment][0]\n",
    "        distal_joint_index = mediapipe_pose_skeleton_connections[body_segment][1]\n",
    "        mediapipe_pose_skeleton_coordinates[body_segment] = [mediapipe_pose_data[:,proximal_joint_index],mediapipe_pose_data[:,distal_joint_index,:]]\n",
    "\n",
    "\n",
    "\n",
    "build_mediapipe_skeleton([])"
   ]
  }
 ],
 "metadata": {
  "interpreter": {
   "hash": "d2ff4bb1de017b6b7d5db063e641836c01592897d6b839adc8c7255848e01977"
  },
  "kernelspec": {
   "display_name": "Python 3.9.7 64-bit ('data_analysis': conda)",
   "language": "python",
   "name": "python3"
  },
  "language_info": {
   "codemirror_mode": {
    "name": "ipython",
    "version": 3
   },
   "file_extension": ".py",
   "mimetype": "text/x-python",
   "name": "python",
   "nbconvert_exporter": "python",
   "pygments_lexer": "ipython3",
   "version": "3.9.7"
  },
  "orig_nbformat": 4
 },
 "nbformat": 4,
 "nbformat_minor": 2
}
