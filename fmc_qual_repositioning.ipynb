{
 "cells": [
  {
   "cell_type": "code",
   "execution_count": 1,
   "metadata": {},
   "outputs": [],
   "source": [
    "import numpy as np\n",
    "import pandas as pd\n",
    "import matplotlib.pyplot as plt\n",
    "from pathlib import Path \n",
    "import socket\n",
    "import pickle\n",
    "import scipy.io as sio"
   ]
  },
  {
   "cell_type": "code",
   "execution_count": 2,
   "metadata": {},
   "outputs": [],
   "source": [
    "this_computer_name = socket.gethostname()"
   ]
  },
  {
   "cell_type": "code",
   "execution_count": 3,
   "metadata": {},
   "outputs": [],
   "source": [
    "if this_computer_name == 'DESKTOP-V3D343U':\n",
    "    freemocap_validation_data_path = Path(r\"I:\\My Drive\\HuMoN_Research_Lab\\FreeMoCap_Stuff\\FreeMoCap_Balance_Validation\\data\")\n",
    "elif this_computer_name == 'DESKTOP-F5LCT4Q':\n",
    "    freemocap_validation_data_path = Path(r\"C:\\Users\\aaron\\Documents\\HumonLab\\Spring2022\\ValidationStudy\\FreeMocap_Data\")\n",
    "    #freemocap_validation_data_path = Path(r'D:\\freemocap2022\\FreeMocap_Data')\n",
    "else:\n",
    "    freemocap_validation_data_path = Path(r\"C:\\Users\\kiley\\Documents\\HumonLab\\SampleFMC_Data\\FreeMocap_Data-20220216T173514Z-001\\FreeMocap_Data\")"
   ]
  },
  {
   "cell_type": "code",
   "execution_count": 4,
   "metadata": {},
   "outputs": [],
   "source": [
    "sessionID = 'session_SER_1_20_22' #name of the sessionID folder\n",
    "this_freemocap_session_path = freemocap_validation_data_path / sessionID\n",
    "this_freemocap_data_path = this_freemocap_session_path/'DataArrays'\n",
    "\n",
    "qualisys_data_path = this_freemocap_data_path/'qualisys_skeleton_fr_mar_dim.mat'\n",
    "mediapipe_data_path = this_freemocap_data_path/'mediaPipeSkel_3d_smoothed.npy'\n"
   ]
  },
  {
   "cell_type": "code",
   "execution_count": null,
   "metadata": {},
   "outputs": [],
   "source": [
    "qualysis_mat_file = sio.loadmat(qualisys_data_path)\n",
    "#qualisys_pose_data = qualysis_mat_file['skeleton_fr_mar_dim_reorg']\n",
    "qualisys_pose_data = qualysis_mat_file['skeleton_fr_mar_dim_rotated']"
   ]
  },
  {
   "cell_type": "code",
   "execution_count": null,
   "metadata": {},
   "outputs": [],
   "source": [
    "\n",
    "mediapipeSkel_fr_mar_dim = np.load(mediapipe_data_path) #loads in the data as a numpy array"
   ]
  }
 ],
 "metadata": {
  "interpreter": {
   "hash": "d2ff4bb1de017b6b7d5db063e641836c01592897d6b839adc8c7255848e01977"
  },
  "kernelspec": {
   "display_name": "Python 3.9.7 ('data_analysis')",
   "language": "python",
   "name": "python3"
  },
  "language_info": {
   "codemirror_mode": {
    "name": "ipython",
    "version": 3
   },
   "file_extension": ".py",
   "mimetype": "text/x-python",
   "name": "python",
   "nbconvert_exporter": "python",
   "pygments_lexer": "ipython3",
   "version": "3.9.7"
  },
  "orig_nbformat": 4
 },
 "nbformat": 4,
 "nbformat_minor": 2
}
