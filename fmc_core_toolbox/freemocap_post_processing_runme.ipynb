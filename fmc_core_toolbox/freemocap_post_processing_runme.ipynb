{
 "cells": [
  {
   "cell_type": "code",
   "execution_count": 2,
   "metadata": {},
   "outputs": [],
   "source": [
    "from pathlib import Path\n",
    "import pickle\n",
    "\n",
    "import numpy as np\n",
    "import pandas as pd\n",
    "from rich.progress import track\n",
    "from scipy import signal"
   ]
  },
  {
   "cell_type": "code",
   "execution_count": 3,
   "metadata": {},
   "outputs": [],
   "source": [
    "def interpolate_freemocap_data(freemocap_marker_data:np.ndarray) -> np.ndarray:\n",
    "    \"\"\" Takes in a 3d skeleton numpy array from freemocap and interpolates missing NaN values\"\"\"\n",
    "    num_frames = freemocap_marker_data.shape[0]\n",
    "    num_markers = freemocap_marker_data.shape[1]\n",
    "\n",
    "    freemocap_interpolated_data = np.empty((num_frames, num_markers, 3))\n",
    "\n",
    "    for marker in track(range(num_markers), description= 'Interpolating Data'):\n",
    "        this_marker_skel3d_data = freemocap_marker_data[:,marker,:]\n",
    "        df = pd.DataFrame(this_marker_skel3d_data)\n",
    "        df2 = df.interpolate(method = 'linear',axis = 0) #use pandas interpolation methods to fill in missing data\n",
    "        this_marker_interpolated_skel3d_array = np.array(df2)\n",
    "        #replace the remaining NaN values (the ones that often happen at the start of the recording)\n",
    "        this_marker_interpolated_skel3d_array = np.where(np.isfinite(this_marker_interpolated_skel3d_array), this_marker_interpolated_skel3d_array, np.nanmean(this_marker_interpolated_skel3d_array))\n",
    "        \n",
    "        freemocap_interpolated_data[:,marker,:] = this_marker_interpolated_skel3d_array\n",
    "        \n",
    "    return freemocap_interpolated_data"
   ]
  },
  {
   "cell_type": "code",
   "execution_count": 4,
   "metadata": {},
   "outputs": [],
   "source": [
    "def butter_lowpass_filter(data, cutoff, sampling_rate, order):\n",
    "    \"\"\" Run a low pass butterworth filter on a single column of data\"\"\"\n",
    "    nyquist_freq = 0.5*sampling_rate\n",
    "    normal_cutoff = cutoff / nyquist_freq\n",
    "    # Get the filter coefficients \n",
    "    b, a = signal.butter(order, normal_cutoff, btype='low', analog=False)\n",
    "    y = signal.filtfilt(b, a, data)\n",
    "    return y\n",
    "\n",
    "\n",
    "def filter_skeleton(skeleton_3d_data, cutoff, sampling_rate, order):\n",
    "    \"\"\" Take in a 3d skeleton numpy array and run a low pass butterworth filter on each marker in the data\"\"\"\n",
    "    num_frames = skeleton_3d_data.shape[0]\n",
    "    num_markers = skeleton_3d_data.shape[1]\n",
    "    filtered_data = np.empty((num_frames,num_markers,3))\n",
    "\n",
    "    for marker in range(num_markers):\n",
    "        for x in range(3):\n",
    "            filtered_data[:,marker,x] = butter_lowpass_filter(skeleton_3d_data[:,marker,x],cutoff,sampling_rate,order)\n",
    "\n",
    "    \n",
    "    return filtered_data\n"
   ]
  },
  {
   "cell_type": "code",
   "execution_count": 5,
   "metadata": {},
   "outputs": [],
   "source": [
    "def find_velocity_values_within_limit(skeleton_velocity_data, velocity_limit):\n",
    "    \"\"\"\n",
    "    This function takes in a skeleton velocity data array and a limit and returns the indices of the values that are within the limit\n",
    "    \"\"\"\n",
    "    indices = []\n",
    "    for i in range(len(skeleton_velocity_data)):\n",
    "        if abs(skeleton_velocity_data[i]) <= velocity_limit:\n",
    "            indices.append(i+1) #add 1 to account for the difference in indices between the position and velocity data\n",
    "    return indices\n",
    "\n",
    "def find_matching_indices_in_lists(list_1,list_2,list_3,list_4):\n",
    "    \"\"\"\n",
    "    This function takes in four lists and returns the indices of the values that are in all four lists\n",
    "    \"\"\"\n",
    "    matching_values = [x for x in list_1 if x in list_2 and x in list_3 and x in list_4]\n",
    "\n",
    "    return matching_values\n",
    "def find_best_velocity_guess(skeleton_velocity_data, skeleton_indices, velocity_guess, iteration_range):\n",
    "    \"\"\"\n",
    "    This function iterates over velocity data and tries to pare down to a single frame that has the closest velocity to 0 for all foot markers\n",
    "    \"\"\"\n",
    "\n",
    "    right_heel_index = skeleton_indices.index('right_heel')\n",
    "    right_toe_index = skeleton_indices.index('right_foot_index')\n",
    "    left_heel_index = skeleton_indices.index('left_heel')\n",
    "    left_toe_index = skeleton_indices.index('left_foot_index')\n",
    "\n",
    "    skeleton_data_velocity_x_right_heel = skeleton_velocity_data[:,right_heel_index,0]\n",
    "    skeleton_data_velocity_x_right_toe = skeleton_velocity_data[:,right_toe_index,0]\n",
    "    skeleton_data_velocity_x_left_heel = skeleton_velocity_data[:,left_heel_index,0]\n",
    "    skeleton_data_velocity_x_left_toe = skeleton_velocity_data[:,left_toe_index,0]\n",
    "\n",
    "    #get a list of the frames where the velocity for that marker is within the velocity limit \n",
    "    right_heel_x_velocity_limits = find_velocity_values_within_limit(skeleton_data_velocity_x_right_heel, velocity_guess)\n",
    "    right_toe_x_velocity_limits = find_velocity_values_within_limit(skeleton_data_velocity_x_right_toe, velocity_guess)\n",
    "    left_heel_x_velocity_limits = find_velocity_values_within_limit(skeleton_data_velocity_x_left_heel, velocity_guess)\n",
    "    left_toe_x_velocity_limits = find_velocity_values_within_limit(skeleton_data_velocity_x_left_toe, velocity_guess)\n",
    "\n",
    "    #return a list of matching frame indices from the four lists generated above \n",
    "    matching_values = find_matching_indices_in_lists(right_heel_x_velocity_limits, right_toe_x_velocity_limits, left_heel_x_velocity_limits, left_toe_x_velocity_limits)\n",
    "    matching_values = [x for x in matching_values if x>75]\n",
    "    \n",
    "    #print(matching_values)\n",
    "    if len(matching_values) > 1 and velocity_guess > 0:\n",
    "        #if there are multiple matching values, decrease the guess a little bit and run the function again\n",
    "        #  \n",
    "        velocity_guess = velocity_guess - iteration_range\n",
    "        print('Current Velocity Guess:',velocity_guess, '| Number of Possible Frames:', len(matching_values), '| Possible Frames:', matching_values)\n",
    "        matching_values, velocity_guess = find_best_velocity_guess(skeleton_velocity_data, skeleton_indices, velocity_guess, iteration_range)\n",
    "\n",
    "        f = 2\n",
    "    elif len(matching_values) == 0:\n",
    "        #if there are no matching values (we decreased our guess too far), reset the guess to be a bit smaller and run the function again with smaller intervals between the guesses\n",
    "        iteration_range = iteration_range/2\n",
    "        matching_values, velocity_guess = find_best_velocity_guess(skeleton_velocity_data, skeleton_indices, velocity_guess + iteration_range*2, iteration_range)\n",
    "\n",
    "        f = 2\n",
    "    elif len(matching_values) == 1:\n",
    "        print('Good Frame:', matching_values,'| Final Velocity Guess:',velocity_guess)\n",
    "\n",
    "    return matching_values, velocity_guess\n",
    "\n",
    "\n",
    "def find_good_frame(skeleton_data, skeleton_indices:list, initial_velocity_guess:float, debug = False):\n",
    "    \"\"\"\n",
    "    Finds a frame (called the good frame) where the velocity of both feet are closest to 0\n",
    "\n",
    "    Input: \n",
    "        skeleton data: a 3D numpy array of skeleton data in freemocap format\n",
    "        skeleton indices: a list of joints being tracked by mediapipe/your 2d pose estimator\n",
    "        initial velocity guess: just a starting guess for the optimizer. Can adjust if you're not getting the results you want\n",
    "        debug: plots and displays the calculated good frame if True \n",
    "    \"\"\"\n",
    "\n",
    "    skeleton_velocity_data = np.diff(skeleton_data, axis=0)\n",
    "    \n",
    "    matching_values, velocity_guess = find_best_velocity_guess(skeleton_velocity_data, skeleton_indices, initial_velocity_guess, iteration_range=.1)\n",
    "\n",
    "    good_frame = matching_values[0]\n",
    "\n",
    "    return good_frame"
   ]
  },
  {
   "cell_type": "code",
   "execution_count": 6,
   "metadata": {},
   "outputs": [],
   "source": [
    "\n",
    "\n",
    "def create_vector(point1,point2): \n",
    "    \"\"\"Put two points in, make a vector\"\"\"\n",
    "    vector = point2 - point1\n",
    "    return vector\n",
    "\n",
    "def calculate_unit_vector(vector): \n",
    "    \"\"\"Take in a vector, make it a unit vector\"\"\"\n",
    "    unit_vector = vector/np.linalg.norm(vector)\n",
    "    return unit_vector\n",
    "\n",
    "def calculate_shoulder_center_XYZ_coordinates(single_frame_skeleton_data,left_shoulder_index,right_shoulder_index ):\n",
    "    \"\"\"Take in the left and right shoulder indices, and calculate the shoulder center point\"\"\"\n",
    "    left_shoulder_point = single_frame_skeleton_data[left_shoulder_index,:]\n",
    "    right_shoulder_point = single_frame_skeleton_data[right_shoulder_index,:]\n",
    "    shoulder_center_XYZ_coordinates = (left_shoulder_point + right_shoulder_point)/2\n",
    "    \n",
    "    return shoulder_center_XYZ_coordinates\n",
    "\n",
    "\n",
    "def calculate_mid_hip_XYZ_coordinates(single_frame_skeleton_data,left_hip_index,right_hip_index):\n",
    "    \"\"\"Take in the left and right hip indices, and calculate the mid hip point\"\"\"\n",
    "    left_hip_point = single_frame_skeleton_data[left_hip_index,:]\n",
    "    right_hip_point = single_frame_skeleton_data[right_hip_index,:]\n",
    "    mid_hip_XYZ_coordinates = (left_hip_point + right_hip_point)/2\n",
    "\n",
    "    return mid_hip_XYZ_coordinates\n",
    "\n",
    "def calculate_mid_foot_XYZ_coordinate(single_frame_skeleton_data,left_heel_index,right_heel_index,):\n",
    "    \"\"\"Take in the primary and secondary foot indices, and calculate the mid foot point\"\"\"\n",
    "    right_foot_point = single_frame_skeleton_data[right_heel_index,:]\n",
    "    left_foot_point = single_frame_skeleton_data[left_heel_index,:]\n",
    "    mid_foot_XYZ_coordinates = (right_foot_point + left_foot_point)/2\n",
    "\n",
    "    return mid_foot_XYZ_coordinates\n",
    "\n",
    "# def calculate_translation_distance(skeleton_point_coordinate):\n",
    "#     \"\"\"Take a skeleton point coordinate and calculate its distance to the origin\"\"\"\n",
    "\n",
    "#     translation_distance = skeleton_point_coordinate - [0,0,0]\n",
    "#     return translation_distance \n",
    "\n",
    "\n",
    "def translate_skeleton_frame(rotated_skeleton_data_frame, translation_distance):\n",
    "    \"\"\"Take in a frame of rotated skeleton data, and apply the translation distance to each point in the skeleton\"\"\"\n",
    "\n",
    "    translated_skeleton_frame = rotated_skeleton_data_frame - translation_distance\n",
    "    return translated_skeleton_frame\n",
    "\n",
    "def translate_skeleton_to_origin(point_to_translate, original_skeleton_data):\n",
    "    num_frames = original_skeleton_data.shape[0]\n",
    "\n",
    "    translated_skeleton_data = np.zeros(original_skeleton_data.shape)\n",
    "\n",
    "    for frame in track (range(num_frames), description = 'Translating Skeleton'):\n",
    "        translated_skeleton_data[frame,:,:] = translate_skeleton_frame(original_skeleton_data[frame,:,:],point_to_translate)\n",
    "\n",
    "    return translated_skeleton_data\n",
    "\n",
    "def calculate_skewed_symmetric_cross_product(cross_product_vector):\n",
    "    #needed in the calculate_rotation_matrix function \n",
    "    skew_symmetric_cross_product = np.array([[0, -cross_product_vector[2], cross_product_vector[1]],\n",
    "                                             [cross_product_vector[2], 0, -cross_product_vector[0]],\n",
    "                                             [-cross_product_vector[1], cross_product_vector[0], 0]])\n",
    "    return skew_symmetric_cross_product\n",
    "\n",
    "\n",
    "def calculate_rotation_matrix(vector1,vector2):\n",
    "    \"\"\"Put in two vectors to calculate the rotation matrix between those two vectors\"\"\"\n",
    "    #based on the code found here: https://math.stackexchange.com/questions/180418/calculate-rotation-matrix-to-align-vector-a-to-vector-b-in-3d\"\"\"\n",
    "    \n",
    "    identity_matrix = np.identity(3)\n",
    "    vector_cross_product = np.cross(vector1,vector2)\n",
    "    vector_dot_product = np.dot(vector1,vector2)\n",
    "    skew_symmetric_cross_product = calculate_skewed_symmetric_cross_product(vector_cross_product)\n",
    "    rotation_matrix  = identity_matrix + skew_symmetric_cross_product + (np.dot(skew_symmetric_cross_product,skew_symmetric_cross_product))*(1 - vector_dot_product)/(np.linalg.norm(vector_cross_product)**2)\n",
    "\n",
    "    return rotation_matrix\n",
    "\n",
    "def rotate_point(point,rotation_matrix):\n",
    "    rotated_point = np.dot(rotation_matrix,point)\n",
    "    return rotated_point\n",
    "\n",
    "def rotate_skeleton_frame(this_frame_aligned_skeleton_data, rotation_matrix):\n",
    "    \"\"\"Take in a frame of skeleton data, and apply the rotation matrix to each point in the skeleton\"\"\"\n",
    "\n",
    "    this_frame_rotated_skeleton = np.zeros(this_frame_aligned_skeleton_data.shape)  #initialize the array to hold the rotated skeleton data for this frame\n",
    "    num_tracked_points = this_frame_aligned_skeleton_data.shape[0]\n",
    "\n",
    "    for i in range(num_tracked_points):\n",
    "        this_frame_rotated_skeleton[i,:] = rotate_point(this_frame_aligned_skeleton_data[i,:],rotation_matrix)\n",
    "\n",
    "    return this_frame_rotated_skeleton\n",
    "\n",
    "def rotate_skeleton_to_vector(reference_vector:np.ndarray, vector_to_rotate_to:np.ndarray, original_skeleton_np_array:np.ndarray) -> np.ndarray:\n",
    "    \"\"\" \n",
    "    Find the rotation matrix needed to rotate the 'reference vector' to match the 'vector_to_rotate_to', and \n",
    "    rotate the entire skeleton with that matrix.\n",
    "\n",
    "        Input: \n",
    "            Reference Vector: The vector on the skeleton that you want to rotate/base the rotation matrix on \n",
    "            Vector_to_rotate_to: The vector that you want to align the skeleton too (i.e. the x-axis/y-axis etc.)\n",
    "            Original skeleton data: The freemocap data you want to rotate\n",
    "        Output:\n",
    "            rotated_skeleton_data: A numpy data array of your rotated skeleton\n",
    "\n",
    "    \"\"\"\n",
    "\n",
    "    num_frames = original_skeleton_np_array.shape[0]\n",
    "    reference_unit_vector = calculate_unit_vector(reference_vector)\n",
    "    rotation_matrix = calculate_rotation_matrix(reference_unit_vector, vector_to_rotate_to)\n",
    "\n",
    "    rotated_skeleton_data_array = np.zeros(original_skeleton_np_array.shape)\n",
    "    for frame in track(range(num_frames), description = 'Rotating Skeleton'):\n",
    "        rotated_skeleton_data_array [frame,:,:] = rotate_skeleton_frame(original_skeleton_np_array[frame,:,:],rotation_matrix)\n",
    "\n",
    "    return rotated_skeleton_data_array\n",
    "\n",
    "\n",
    "\n",
    "\n",
    "\n",
    "\n",
    "def align_skeleton_with_origin(skeleton_data:np.ndarray, skeleton_indices:list, good_frame:int) -> np.ndarray:\n",
    "\n",
    "    \"\"\"\n",
    "    Takes in freemocap skeleton data and translates the skeleton to the origin, and then rotates the data \n",
    "    so that the skeleton is facing the +y direction and standing in the +z direction\n",
    "\n",
    "    Input:\n",
    "        skeleton data: a 3D numpy array of skeleton data in freemocap format\n",
    "        skeleton indices: a list of joints being tracked by mediapipe/your 2d pose estimator\n",
    "        good frame: the frame that you want to base the rotation on (can be entered manually, \n",
    "                    or use the 'good_frame_finder.py' to calculate it)\n",
    "        debug: If 'True', display a plot of the raw data and the 3 main alignment stages\n",
    "\n",
    "    Output:\n",
    "        spine aligned skeleton data: a 3d numpy array of the origin aligned data in freemocap format \n",
    "    \"\"\"\n",
    "    left_shoulder_index = skeleton_indices.index('left_shoulder')\n",
    "    right_shoulder_index = skeleton_indices.index('right_shoulder')\n",
    "\n",
    "    left_hip_index = skeleton_indices.index('left_hip')\n",
    "    right_hip_index = skeleton_indices.index('right_hip')\n",
    "\n",
    "    left_heel_index = skeleton_indices.index('left_heel')\n",
    "    right_heel_index = skeleton_indices.index('right_heel')\n",
    "    \n",
    "    origin = np.array([0, 0, 0])\n",
    "    x_axis = np.array([1, 0, 0])\n",
    "    y_axis = np.array([0, 1, 0])\n",
    "    z_axis = np.array([0, 0, 1])\n",
    "\n",
    "    x_vector = create_vector(origin,x_axis)\n",
    "    y_vector = create_vector(origin,y_axis)\n",
    "    z_vector = create_vector(origin,z_axis)\n",
    "\n",
    "\n",
    "    ## Translate the data such that the midpoint between the two feet is at the origin \n",
    "    hip_translated_mid_foot_XYZ = calculate_mid_foot_XYZ_coordinate(skeleton_data[good_frame,:,:],left_heel_index, right_heel_index)\n",
    "    foot_translated_skeleton_data = translate_skeleton_to_origin(hip_translated_mid_foot_XYZ,skeleton_data)\n",
    "\n",
    "    # Rotate the skeleton to face the +y direction\n",
    "    heel_vector_origin = foot_translated_skeleton_data[good_frame,right_heel_index,:]\n",
    "    heel_vector = create_vector(heel_vector_origin ,foot_translated_skeleton_data[good_frame,left_heel_index,:])\n",
    "\n",
    "\n",
    "    y_aligned_skeleton_data = rotate_skeleton_to_vector(heel_vector,-1*x_vector,foot_translated_skeleton_data)\n",
    "\n",
    "    #Rotating the skeleton so that the spine is aligned with +z\n",
    "    y_aligned_mid_hip_XYZ = calculate_mid_hip_XYZ_coordinates(y_aligned_skeleton_data[good_frame,:,:],left_hip_index,right_hip_index)\n",
    "    y_aligned_mid_shoulder_XYZ = calculate_shoulder_center_XYZ_coordinates(y_aligned_skeleton_data[good_frame,:,:], left_shoulder_index, right_shoulder_index)\n",
    "    y_aligned_spine_vector = create_vector(y_aligned_mid_hip_XYZ,y_aligned_mid_shoulder_XYZ)\n",
    "    \n",
    "    spine_aligned_skeleton_data = rotate_skeleton_to_vector(y_aligned_spine_vector,z_vector,y_aligned_skeleton_data)\n",
    "\n",
    "    return spine_aligned_skeleton_data, y_aligned_skeleton_data, foot_translated_skeleton_data"
   ]
  },
  {
   "cell_type": "code",
   "execution_count": 7,
   "metadata": {},
   "outputs": [],
   "source": [
    "mediapipe_indices = [\n",
    "    'nose',\n",
    "    'left_eye_inner',\n",
    "    'left_eye',\n",
    "    'left_eye_outer',\n",
    "    'right_eye_inner',\n",
    "    'right_eye',\n",
    "    'right_eye_outer',\n",
    "    'left_ear',\n",
    "    'right_ear',\n",
    "    'mouth_left',\n",
    "    'mouth_right',\n",
    "    'left_shoulder',\n",
    "    'right_shoulder',\n",
    "    'left_elbow',\n",
    "    'right_elbow',\n",
    "    'left_wrist',\n",
    "    'right_wrist',\n",
    "    'left_pinky',\n",
    "    'right_pinky',\n",
    "    'left_index',\n",
    "    'right_index',\n",
    "    'left_thumb',\n",
    "    'right_thumb',\n",
    "    'left_hip',\n",
    "    'right_hip',\n",
    "    'left_knee',\n",
    "    'right_knee',\n",
    "    'left_ankle',\n",
    "    'right_ankle',\n",
    "    'left_heel',\n",
    "    'right_heel',\n",
    "    'left_foot_index',\n",
    "    'right_foot_index'\n",
    "    ]\n",
    "    \n",
    "def slice_mediapipe_data(mediapipe_full_skeleton_data, num_pose_joints):\n",
    "    pose_joint_range = range(num_pose_joints)\n",
    "\n",
    "    mediapipe_pose_data = mediapipe_full_skeleton_data[:,0:num_pose_joints,:] #load just the pose joints into a data array, removing hands and face data \n",
    "\n",
    "    return mediapipe_pose_data\n",
    "\n",
    "\n",
    "def return_indices_of_joints(list_of_indices, list_of_joint_names):\n",
    "\n",
    "    indices = []\n",
    "    for name in list_of_joint_names:\n",
    "        this_name_index = list_of_indices.index(name)\n",
    "        indices.append(this_name_index)\n",
    "    \n",
    "    return indices\n",
    "\n",
    "def return_XYZ_coordinates_of_markers(freemocap_data, indices_list,frame):\n",
    "\n",
    "        XYZ_coordinates = []\n",
    "        for index in indices_list:\n",
    "            this_joint_coordinate = freemocap_data[frame,index,:]\n",
    "            XYZ_coordinates.append(this_joint_coordinate)\n",
    "\n",
    "        return XYZ_coordinates\n",
    "\n",
    "    \n",
    "def build_virtual_trunk_marker(freemocap_data,list_of_indices, trunk_joint_connection,frame):\n",
    "        trunk_marker_indices = return_indices_of_joints(list_of_indices, trunk_joint_connection)\n",
    "\n",
    "        trunk_XYZ_coordinates = return_XYZ_coordinates_of_markers(freemocap_data,trunk_marker_indices,frame)\n",
    "\n",
    "        trunk_proximal = (trunk_XYZ_coordinates[0] + trunk_XYZ_coordinates[1])/2\n",
    "        trunk_distal = (trunk_XYZ_coordinates[2] + trunk_XYZ_coordinates[3])/2\n",
    "\n",
    "        return trunk_proximal, trunk_distal\n",
    "\n",
    "\n",
    "    \n",
    " \n",
    "\n",
    "def build_mediapipe_skeleton(mediapipe_pose_data,segment_dataframe, mediapipe_indices) -> list:\n",
    "    \"\"\" This function takes in the mediapipe pose data array and the segment_conn_len_perc_dataframe. \n",
    "        For each frame of data, it loops through each segment we want to find and identifies the names\n",
    "        of the proximal and distal joints of that segment. Then it searches the mediapipe_indices list\n",
    "        to find the index that corresponds to the name of that segment. We plug the index into the \n",
    "        mediapipe_pose_data array to find the proximal/distal joints' XYZ coordinates at that frame. \n",
    "        The segment, its proximal joint and its distal joint gets thrown into a dictionary. \n",
    "        And then that dictionary gets saved to a list for each frame. By the end of the function, you \n",
    "        have a list that contains the skeleton segment XYZ coordinates for each frame.\"\"\"\n",
    "\n",
    "\n",
    "    num_frames = mediapipe_pose_data.shape[0]\n",
    "    num_frame_range = range(num_frames)\n",
    "\n",
    "    mediapipe_frame_segment_joint_XYZ = [] #empty list to hold all the skeleton XYZ coordinates/frame\n",
    "\n",
    "    \n",
    "    for frame in track(num_frame_range, description= 'Building a MediaPipe Skeleton'): \n",
    "\n",
    "        trunk_joint_connection = ['left_shoulder', 'right_shoulder', 'left_hip', 'right_hip']\n",
    "        trunk_virtual_markers = build_virtual_trunk_marker(mediapipe_pose_data, mediapipe_indices, trunk_joint_connection,frame)    \n",
    "\n",
    "        mediapipe_pose_skeleton_coordinates = {}\n",
    "        for segment,segment_info in segment_dataframe.iterrows(): #iterate through the data frame by the segment name and all the info for that segment\n",
    "            if segment == 'trunk':\n",
    "\n",
    "                #based on index, excract coordinate data from fmc mediapipe data\n",
    "                mediapipe_pose_skeleton_coordinates[segment] = [trunk_virtual_markers[0], \n",
    "                                                                trunk_virtual_markers[1]\n",
    "                                                                ]\n",
    "            elif segment == 'left_hand' or segment == 'right_hand':\n",
    "                proximal_joint_hand = segment_info['Joint_Connection'][0]\n",
    "                if segment == 'left_hand':\n",
    "                    distal_joint_hand = 'left_index'\n",
    "                else:\n",
    "                    distal_joint_hand = 'right_index'\n",
    "\n",
    "                proximal_joint_hand_index = mediapipe_indices.index(proximal_joint_hand)\n",
    "                distal_joint_hand_index = mediapipe_indices.index(distal_joint_hand)\n",
    "\n",
    "                mediapipe_pose_skeleton_coordinates[segment] = [mediapipe_pose_data[frame,proximal_joint_hand_index, :],\n",
    "                                                                mediapipe_pose_data[frame,distal_joint_hand_index,:]]\n",
    "\n",
    "            elif segment == 'left_foot' or segment == 'right_foot':\n",
    "                if segment == 'left_foot':\n",
    "                    proximal_joint_foot_name = 'left_ankle'\n",
    "                else:\n",
    "                    proximal_joint_foot_name = 'right_ankle'\n",
    "                \n",
    "                proximal_joint_foot_index = mediapipe_indices.index(proximal_joint_foot_name)\n",
    "\n",
    "                distal_joint_foot = segment_info['Joint_Connection'][1]\n",
    "                distal_joint_foot_index = mediapipe_indices.index(distal_joint_foot)\n",
    "                mediapipe_pose_skeleton_coordinates[segment] = [mediapipe_pose_data[frame,proximal_joint_foot_index, :],\n",
    "                                                                mediapipe_pose_data[frame, distal_joint_foot_index,:]]            \n",
    "\n",
    "            else:\n",
    "                proximal_joint_name = segment_info['Joint_Connection'][0] \n",
    "                distal_joint_name = segment_info['Joint_Connection'][1]\n",
    "\n",
    "            #get the mediapipe index for the proximal and distal joint for this segment\n",
    "                proximal_joint_index = mediapipe_indices.index(proximal_joint_name)\n",
    "                distal_joint_index = mediapipe_indices.index(distal_joint_name)\n",
    "\n",
    "            #use the mediapipe indices to get the XYZ coordinates for the prox/distal joints and throw it in a dictionary\n",
    "            #mediapipe_pose_skeleton_coordinates[segment] = {'proximal':mediapipe_pose_data[frame,proximal_joint_index,:],'distal':mediapipe_pose_data[frame,distal_joint_index,:]}\n",
    "                mediapipe_pose_skeleton_coordinates[segment] = [mediapipe_pose_data[frame,proximal_joint_index,:],mediapipe_pose_data[frame,distal_joint_index,:]]\n",
    "                \n",
    "        mediapipe_frame_segment_joint_XYZ.append(mediapipe_pose_skeleton_coordinates)\n",
    "        f = 2 \n",
    "    \n",
    "    return mediapipe_frame_segment_joint_XYZ"
   ]
  },
  {
   "cell_type": "code",
   "execution_count": 8,
   "metadata": {},
   "outputs": [],
   "source": [
    "#values for segment weight and segment mass percentages taken from Winter anthropometry tables\n",
    "#https://imgur.com/a/aD74j\n",
    "#Winter, D.A. (2005) Biomechanics and Motor Control of Human Movement. 3rd Edition, John Wiley & Sons, Inc., Hoboken.\n",
    "\n",
    "\n",
    "\n",
    "segments = [\n",
    "'head',\n",
    "'trunk',\n",
    "'right_upper_arm',\n",
    "'left_upper_arm',\n",
    "'right_forearm',\n",
    "'left_forearm',\n",
    "'right_hand',\n",
    "'left_hand',\n",
    "'right_thigh',\n",
    "'left_thigh',\n",
    "'right_shin',\n",
    "'left_shin',\n",
    "'right_foot',\n",
    "'left_foot'\n",
    "]\n",
    "\n",
    "joint_connections = [\n",
    "['left_ear','right_ear'],\n",
    "['mid_chest_marker', 'mid_hip_marker'], \n",
    "['right_shoulder','right_elbow'],\n",
    "['left_shoulder','left_elbow'],\n",
    "['right_elbow', 'right_wrist'],\n",
    "['left_elbow', 'left_wrist'],\n",
    "['right_wrist', 'right_hand_marker'], \n",
    "['left_wrist', 'left_hand_marker'],\n",
    "['right_hip', 'right_knee'],\n",
    "['left_hip', 'left_knee'],\n",
    "['right_knee', 'right_ankle'],\n",
    "['left_knee', 'left_ankle'],\n",
    "['right_back_of_foot_marker', 'right_foot_index'], \n",
    "['left_back_of_foot_marker', 'left_foot_index']\n",
    "]\n",
    "\n",
    "segment_COM_lengths = [\n",
    ".5,\n",
    ".5,\n",
    ".436,\n",
    ".436,\n",
    ".430,\n",
    ".430,\n",
    ".506, \n",
    ".506, \n",
    ".433,\n",
    ".433,\n",
    ".433,\n",
    ".433,\n",
    ".5, \n",
    ".5  \n",
    "]\n",
    "\n",
    "segment_COM_percentages = [\n",
    ".081,\n",
    ".497,\n",
    ".028,\n",
    ".028,\n",
    ".016,\n",
    ".016,\n",
    ".006,\n",
    ".006,\n",
    ".1,\n",
    ".1,\n",
    ".0465,\n",
    ".0465,\n",
    ".0145,\n",
    ".0145\n",
    "]\n"
   ]
  },
  {
   "cell_type": "code",
   "execution_count": 9,
   "metadata": {},
   "outputs": [],
   "source": [
    "def calculate_segment_COM(segment_conn_len_perc_dataframe,skelcoordinates_frame_segment_joint_XYZ, num_frame_range):\n",
    "    segment_COM_frame_dict = []\n",
    "    for frame in track(num_frame_range, description = 'Calculating Segment Center of Mass'):\n",
    "        segment_COM_dict = {}\n",
    "        for segment,segment_info in segment_conn_len_perc_dataframe.iterrows():\n",
    "            this_segment_XYZ = skelcoordinates_frame_segment_joint_XYZ[frame][segment]\n",
    "\n",
    "            #for mediapipe\n",
    "            this_segment_proximal = this_segment_XYZ[0]\n",
    "            this_segment_distal = this_segment_XYZ[1]\n",
    "            this_segment_COM_length = segment_info['Segment_COM_Length']\n",
    "\n",
    "            this_segment_COM = this_segment_proximal + this_segment_COM_length*(this_segment_distal-this_segment_proximal)\n",
    "            segment_COM_dict[segment] = this_segment_COM\n",
    "        segment_COM_frame_dict.append(segment_COM_dict)\n",
    "    return segment_COM_frame_dict\n",
    "\n",
    "\n",
    "def reformat_segment_COM(segment_COM_frame_dict, num_frame_range,num_segments):\n",
    "    \n",
    "    segment_COM_frame_imgPoint_XYZ = np.empty([int(len(num_frame_range)),int(num_segments),3])\n",
    "    for frame in num_frame_range:\n",
    "        this_frame_skeleton = segment_COM_frame_dict[frame]\n",
    "        for joint_count,segment in enumerate(this_frame_skeleton.keys()):\n",
    "            segment_COM_frame_imgPoint_XYZ[frame,joint_count,:] = this_frame_skeleton[segment]\n",
    "    return segment_COM_frame_imgPoint_XYZ\n",
    "\n",
    "\n",
    "\n",
    "def calculate_total_body_COM(segment_conn_len_perc_dataframe,segment_COM_frame_dict,num_frame_range):\n",
    "    totalBodyCOM_frame_XYZ = np.empty([int(len(num_frame_range)),3])\n",
    "\n",
    "    for frame in track(num_frame_range, description = 'Calculating Total Body Center of Mass'):\n",
    "\n",
    "        this_frame_total_body_percentages = []\n",
    "        this_frame_skeleton = segment_COM_frame_dict[frame]\n",
    "\n",
    "        for segment, segment_info in segment_conn_len_perc_dataframe.iterrows():\n",
    "\n",
    "            this_segment_COM = this_frame_skeleton[segment]\n",
    "            this_segment_COM_percentage = segment_info['Segment_COM_Percentage']\n",
    "\n",
    "            this_segment_total_body_percentage = this_segment_COM * this_segment_COM_percentage\n",
    "            this_frame_total_body_percentages.append(this_segment_total_body_percentage)\n",
    "\n",
    "        this_frame_total_body_COM = np.nansum(this_frame_total_body_percentages,axis = 0)\n",
    "       \n",
    "        totalBodyCOM_frame_XYZ[frame,:] = this_frame_total_body_COM\n",
    "\n",
    "    f=2\n",
    "    return totalBodyCOM_frame_XYZ \n",
    "\n",
    "def build_anthropometric_dataframe(segments:list,joint_connections:list,segment_COM_lengths:list,segment_COM_percentages:list) -> pd.DataFrame:\n",
    "    #load anthropometric data into a pandas dataframe\n",
    "    df = pd.DataFrame(list(zip(segments,joint_connections,segment_COM_lengths,segment_COM_percentages)),columns = ['Segment_Name','Joint_Connection','Segment_COM_Length','Segment_COM_Percentage'])\n",
    "    segment_conn_len_perc_dataframe = df.set_index('Segment_Name')\n",
    "    return segment_conn_len_perc_dataframe\n",
    "\n",
    "def run(freemocap_marker_data_array:np.ndarray, pose_estimation_skeleton:list, anthropometric_info_dataframe:pd.DataFrame):\n",
    "\n",
    "    num_frames = freemocap_marker_data_array.shape[0]\n",
    "    num_frame_range = range(num_frames)\n",
    "    num_segments = len(anthropometric_info_dataframe)\n",
    "\n",
    "    segment_COM_frame_dict = calculate_segment_COM(anthropometric_info_dataframe, pose_estimation_skeleton, num_frame_range)\n",
    "    segment_COM_frame_imgPoint_XYZ = reformat_segment_COM(segment_COM_frame_dict,num_frame_range, num_segments)\n",
    "    totalBodyCOM_frame_XYZ = calculate_total_body_COM(anthropometric_info_dataframe,segment_COM_frame_dict,num_frame_range)\n",
    "\n",
    "    return segment_COM_frame_dict,segment_COM_frame_imgPoint_XYZ,totalBodyCOM_frame_XYZ\n",
    "       "
   ]
  },
  {
   "cell_type": "code",
   "execution_count": 10,
   "metadata": {},
   "outputs": [
    {
     "data": {
      "application/vnd.jupyter.widget-view+json": {
       "model_id": "47bbb409122a4f629fa31b22ca858b03",
       "version_major": 2,
       "version_minor": 0
      },
      "text/plain": [
       "Output()"
      ]
     },
     "metadata": {},
     "output_type": "display_data"
    },
    {
     "data": {
      "text/html": [
       "<pre style=\"white-space:pre;overflow-x:auto;line-height:normal;font-family:Menlo,'DejaVu Sans Mono',consolas,'Courier New',monospace\">C:\\Users\\aaron\\AppData\\Local\\Temp\\ipykernel_30132\\623468142.py:14: RuntimeWarning: Mean of \n",
       "empty slice\n",
       "  this_marker_interpolated_skel3d_array = \n",
       "np.where(np.isfinite(this_marker_interpolated_skel3d_array), \n",
       "this_marker_interpolated_skel3d_array, np.nanmean(this_marker_interpolated_skel3d_array))\n",
       "</pre>\n"
      ],
      "text/plain": [
       "C:\\Users\\aaron\\AppData\\Local\\Temp\\ipykernel_30132\\623468142.py:14: RuntimeWarning: Mean of \n",
       "empty slice\n",
       "  this_marker_interpolated_skel3d_array = \n",
       "np.where(np.isfinite(this_marker_interpolated_skel3d_array), \n",
       "this_marker_interpolated_skel3d_array, np.nanmean(this_marker_interpolated_skel3d_array))\n"
      ]
     },
     "metadata": {},
     "output_type": "display_data"
    },
    {
     "name": "stdout",
     "output_type": "stream",
     "text": [
      "Interpolating and Filtering Data\n"
     ]
    },
    {
     "data": {
      "text/html": [
       "<pre style=\"white-space:pre;overflow-x:auto;line-height:normal;font-family:Menlo,'DejaVu Sans Mono',consolas,'Courier New',monospace\"></pre>\n"
      ],
      "text/plain": []
     },
     "metadata": {},
     "output_type": "display_data"
    },
    {
     "data": {
      "text/html": [
       "<pre style=\"white-space:pre;overflow-x:auto;line-height:normal;font-family:Menlo,'DejaVu Sans Mono',consolas,'Courier New',monospace\">\n",
       "</pre>\n"
      ],
      "text/plain": [
       "\n"
      ]
     },
     "metadata": {},
     "output_type": "display_data"
    },
    {
     "name": "stdout",
     "output_type": "stream",
     "text": [
      "Aligning Data with Origin\n",
      "Current Velocity Guess: 0.19999999999999998 | Number of Possible Frames: 3733 | Possible Frames: [134, 460, 461, 621, 658, 685, 686, 687, 693, 694, 695, 696, 697, 698, 699, 700, 701, 720, 721, 722, 723, 724, 725, 726, 727, 734, 735, 736, 737, 738, 739, 740, 741, 742, 743, 744, 745, 746, 747, 748, 749, 750, 751, 752, 753, 754, 755, 756, 757, 758, 759, 760, 761, 762, 770, 771, 772, 773, 774, 775, 776, 777, 778, 779, 780, 781, 782, 783, 784, 785, 786, 787, 788, 789, 790, 791, 792, 793, 794, 804, 805, 806, 807, 808, 809, 810, 817, 818, 819, 820, 821, 822, 823, 824, 825, 826, 827, 828, 829, 838, 839, 840, 841, 842, 843, 844, 845, 846, 847, 855, 856, 857, 858, 864, 865, 866, 867, 868, 869, 870, 871, 872, 873, 874, 875, 876, 877, 878, 879, 880, 881, 882, 883, 884, 889, 890, 891, 892, 893, 894, 895, 896, 899, 900, 901, 902, 903, 904, 905, 906, 907, 909, 910, 911, 931, 932, 933, 940, 941, 942, 943, 944, 945, 946, 947, 948, 949, 950, 951, 952, 953, 959, 960, 961, 962, 963, 964, 965, 968, 969, 970, 971, 972, 973, 974, 975, 976, 977, 978, 979, 980, 981, 982, 983, 984, 985, 986, 987, 988, 989, 990, 991, 992, 993, 994, 995, 996, 997, 998, 999, 1006, 1007, 1008, 1009, 1010, 1011, 1012, 1013, 1019, 1020, 1021, 1022, 1023, 1024, 1025, 1031, 1032, 1033, 1034, 1035, 1036, 1037, 1038, 1039, 1040, 1041, 1042, 1043, 1044, 1045, 1046, 1047, 1048, 1049, 1050, 1051, 1052, 1053, 1054, 1055, 1056, 1057, 1058, 1059, 1060, 1061, 1062, 1063, 1064, 1065, 1066, 1067, 1068, 1069, 1070, 1071, 1072, 1073, 1074, 1075, 1076, 1077, 1078, 1079, 1080, 1081, 1082, 1083, 1084, 1085, 1086, 1087, 1088, 1089, 1090, 1091, 1092, 1093, 1094, 1095, 1096, 1097, 1098, 1099, 1100, 1101, 1102, 1103, 1104, 1105, 1106, 1107, 1108, 1109, 1110, 1111, 1112, 1113, 1114, 1115, 1116, 1117, 1118, 1119, 1120, 1121, 1122, 1123, 1124, 1125, 1126, 1127, 1128, 1129, 1130, 1131, 1132, 1133, 1134, 1135, 1136, 1137, 1144, 1145, 1146, 1147, 1148, 1149, 1150, 1151, 1152, 1153, 1154, 1155, 1156, 1157, 1158, 1159, 1160, 1166, 1167, 1168, 1169, 1170, 1171, 1172, 1173, 1174, 1175, 1182, 1183, 1184, 1185, 1186, 1187, 1188, 1189, 1202, 1203, 1204, 1205, 1206, 1207, 1208, 1209, 1216, 1217, 1218, 1219, 1220, 1221, 1233, 1234, 1235, 1236, 1237, 1238, 1239, 1240, 1241, 1242, 1243, 1244, 1245, 1246, 1247, 1248, 1249, 1250, 1251, 1252, 1253, 1254, 1255, 1256, 1257, 1258, 1259, 1260, 1261, 1262, 1263, 1264, 1265, 1266, 1267, 1268, 1269, 1270, 1271, 1272, 1273, 1274, 1275, 1276, 1277, 1278, 1279, 1280, 1281, 1282, 1283, 1284, 1285, 1286, 1287, 1288, 1289, 1290, 1291, 1292, 1299, 1300, 1301, 1302, 1303, 1304, 1305, 1306, 1307, 1308, 1309, 1310, 1311, 1312, 1313, 1314, 1315, 1316, 1317, 1318, 1319, 1320, 1321, 1322, 1323, 1324, 1327, 1328, 1329, 1330, 1331, 1332, 1333, 1334, 1335, 1336, 1337, 1338, 1339, 1340, 1341, 1342, 1343, 1344, 1345, 1346, 1347, 1348, 1349, 1350, 1351, 1352, 1353, 1354, 1355, 1356, 1357, 1358, 1359, 1360, 1361, 1362, 1363, 1364, 1365, 1366, 1367, 1368, 1369, 1370, 1371, 1372, 1373, 1374, 1375, 1376, 1377, 1378, 1380, 1381, 1382, 1383, 1384, 1385, 1390, 1391, 1392, 1393, 1394, 1395, 1396, 1397, 1398, 1399, 1400, 1401, 1405, 1406, 1407, 1408, 1409, 1410, 1411, 1412, 1413, 1414, 1415, 1416, 1417, 1418, 1419, 1420, 1421, 1422, 1423, 1424, 1425, 1426, 1427, 1428, 1429, 1430, 1431, 1432, 1433, 1434, 1435, 1436, 1437, 1438, 1439, 1458, 1459, 1460, 1461, 1462, 1463, 1464, 1465, 1466, 1467, 1468, 1469, 1470, 1471, 1472, 1473, 1474, 1475, 1476, 1477, 1478, 1479, 1480, 1481, 1482, 1483, 1484, 1485, 1486, 1487, 1488, 1489, 1490, 1491, 1492, 1493, 1494, 1495, 1496, 1497, 1498, 1499, 1500, 1511, 1512, 1513, 1514, 1515, 1516, 1517, 1518, 1519, 1520, 1521, 1522, 1523, 1524, 1525, 1526, 1527, 1528, 1529, 1530, 1531, 1532, 1533, 1534, 1535, 1536, 1537, 1538, 1539, 1540, 1541, 1542, 1543, 1544, 1545, 1546, 1547, 1548, 1549, 1550, 1551, 1552, 1553, 1554, 1555, 1556, 1557, 1558, 1559, 1560, 1561, 1562, 1563, 1564, 1565, 1566, 1567, 1568, 1569, 1570, 1576, 1577, 1578, 1579, 1580, 1581, 1582, 1585, 1586, 1587, 1588, 1589, 1602, 1603, 1604, 1605, 1606, 1607, 1608, 1609, 1610, 1611, 1612, 1613, 1614, 1615, 1616, 1617, 1618, 1619, 1627, 1628, 1629, 1630, 1635, 1636, 1637, 1638, 1639, 1640, 1641, 1642, 1643, 1644, 1645, 1646, 1647, 1648, 1649, 1650, 1651, 1652, 1653, 1654, 1655, 1656, 1657, 1658, 1659, 1660, 1661, 1662, 1663, 1664, 1665, 1666, 1667, 1674, 1675, 1676, 1677, 1678, 1679, 1680, 1681, 1682, 1683, 1684, 1688, 1689, 1695, 1696, 1697, 1698, 1699, 1700, 1701, 1702, 1703, 1704, 1705, 1706, 1713, 1714, 1715, 1716, 1717, 1718, 1723, 1724, 1725, 1745, 1746, 1747, 1748, 1749, 1750, 1751, 1752, 1753, 1754, 1755, 1756, 1763, 1764, 1765, 1766, 1767, 1768, 1769, 1770, 1771, 1772, 1773, 1774, 1775, 1776, 1777, 1778, 1779, 1780, 1781, 1782, 1784, 1785, 1786, 1787, 1788, 1789, 1790, 1797, 1798, 1799, 1806, 1807, 1808, 1814, 1815, 1816, 1823, 1824, 1825, 1831, 1832, 1833, 1837, 1838, 1839, 1842, 1843, 1844, 1845, 1846, 1847, 1857, 1858, 1859, 1860, 1861, 1870, 1871, 1872, 1873, 1874, 1875, 1876, 1877, 1878, 1879, 1883, 1884, 1885, 1886, 1887, 1888, 1889, 1890, 1891, 1892, 1893, 1902, 1903, 1904, 1905, 1906, 1907, 1908, 1918, 1919, 1920, 1921, 1922, 1923, 1924, 1925, 1926, 1927, 1928, 1929, 1930, 1931, 1932, 1933, 1934, 1935, 1936, 1937, 1938, 1939, 1940, 1941, 1942, 1943, 1944, 1945, 1946, 1947, 1948, 1949, 1950, 1951, 1952, 1953, 1954, 1955, 1956, 1957, 1958, 1959, 1960, 1961, 1962, 1963, 1971, 1972, 1973, 1974, 1975, 1976, 1977, 1978, 1979, 1980, 1981, 1982, 1983, 1984, 1985, 1986, 1987, 1988, 1989, 1990, 1991, 1992, 1993, 1994, 1995, 1996, 1997, 1998, 2001, 2002, 2003, 2004, 2005, 2006, 2007, 2008, 2009, 2010, 2011, 2012, 2013, 2014, 2015, 2016, 2017, 2018, 2019, 2020, 2021, 2022, 2023, 2024, 2025, 2026, 2027, 2028, 2029, 2030, 2031, 2032, 2033, 2034, 2035, 2036, 2037, 2038, 2039, 2040, 2041, 2042, 2043, 2044, 2045, 2046, 2047, 2048, 2049, 2050, 2051, 2052, 2053, 2054, 2055, 2056, 2057, 2058, 2059, 2060, 2061, 2062, 2063, 2064, 2065, 2066, 2067, 2082, 2083, 2084, 2085, 2086, 2087, 2088, 2089, 2090, 2091, 2092, 2093, 2094, 2095, 2096, 2097, 2098, 2099, 2100, 2101, 2102, 2103, 2104, 2113, 2114, 2115, 2116, 2117, 2118, 2119, 2120, 2121, 2122, 2123, 2124, 2125, 2126, 2127, 2128, 2129, 2130, 2131, 2132, 2133, 2134, 2135, 2136, 2137, 2138, 2139, 2140, 2141, 2142, 2156, 2157, 2158, 2159, 2160, 2161, 2162, 2163, 2164, 2165, 2166, 2167, 2168, 2169, 2170, 2171, 2172, 2173, 2174, 2175, 2176, 2177, 2178, 2179, 2180, 2181, 2182, 2183, 2184, 2185, 2186, 2187, 2188, 2189, 2197, 2198, 2199, 2200, 2201, 2202, 2203, 2204, 2205, 2206, 2207, 2208, 2209, 2210, 2211, 2212, 2213, 2214, 2215, 2216, 2217, 2218, 2219, 2220, 2231, 2232, 2233, 2234, 2235, 2236, 2245, 2246, 2247, 2248, 2249, 2250, 2251, 2252, 2253, 2260, 2261, 2262, 2263, 2264, 2265, 2266, 2273, 2274, 2275, 2276, 2277, 2285, 2286, 2287, 2288, 2289, 2290, 2294, 2295, 2296, 2297, 2298, 2299, 2300, 2301, 2302, 2303, 2304, 2305, 2306, 2307, 2308, 2316, 2317, 2318, 2319, 2320, 2321, 2322, 2323, 2324, 2325, 2326, 2327, 2328, 2329, 2330, 2331, 2332, 2333, 2334, 2335, 2336, 2337, 2343, 2344, 2345, 2346, 2347, 2348, 2349, 2350, 2351, 2352, 2353, 2354, 2355, 2568, 2746, 2747, 2788, 2789, 2790, 2800, 2801, 2802, 2803, 2804, 2805, 2806, 2812, 2813, 2814, 2815, 2816, 2817, 2818, 2819, 2820, 2821, 2822, 2823, 2824, 2825, 2826, 2827, 2828, 2829, 2830, 2831, 2832, 2833, 2882, 2883, 2884, 2885, 2886, 2887, 2888, 2889, 2890, 2891, 2892, 2893, 2894, 2895, 2896, 2897, 2898, 2917, 2918, 2919, 2920, 2921, 2922, 2923, 2924, 2927, 2928, 2929, 2930, 2931, 2932, 2940, 2946, 2947, 2948, 2949, 2950, 2951, 2954, 2955, 2956, 2957, 2958, 2968, 2969, 2970, 2971, 2974, 2975, 2976, 2977, 2978, 2979, 2980, 2981, 2982, 2983, 2984, 2985, 2986, 2987, 2988, 2989, 2990, 2991, 2992, 2993, 2994, 2995, 2996, 2997, 2998, 3002, 3003, 3004, 3005, 3006, 3007, 3008, 3009, 3010, 3011, 3012, 3013, 3014, 3015, 3016, 3017, 3018, 3019, 3020, 3021, 3022, 3026, 3027, 3028, 3029, 3030, 3031, 3032, 3033, 3034, 3035, 3036, 3037, 3038, 3039, 3040, 3041, 3042, 3043, 3044, 3045, 3046, 3047, 3048, 3049, 3050, 3051, 3052, 3053, 3060, 3061, 3062, 3063, 3064, 3065, 3066, 3067, 3068, 3069, 3070, 3071, 3072, 3073, 3074, 3075, 3076, 3077, 3078, 3079, 3080, 3081, 3082, 3083, 3084, 3085, 3086, 3087, 3088, 3092, 3093, 3094, 3095, 3096, 3097, 3098, 3099, 3100, 3101, 3102, 3103, 3104, 3105, 3106, 3107, 3108, 3109, 3110, 3111, 3112, 3113, 3114, 3115, 3116, 3117, 3135, 3136, 3137, 3138, 3139, 3140, 3141, 3142, 3143, 3150, 3151, 3158, 3159, 3160, 3167, 3168, 3169, 3170, 3171, 3172, 3173, 3174, 3175, 3176, 3177, 3186, 3187, 3188, 3189, 3190, 3191, 3197, 3198, 3199, 3200, 3201, 3202, 3203, 3204, 3205, 3206, 3207, 3208, 3209, 3210, 3211, 3212, 3213, 3214, 3215, 3216, 3217, 3218, 3219, 3220, 3221, 3222, 3223, 3224, 3225, 3226, 3227, 3228, 3229, 3230, 3231, 3232, 3233, 3234, 3235, 3236, 3237, 3238, 3239, 3240, 3241, 3242, 3243, 3244, 3245, 3246, 3247, 3248, 3249, 3250, 3251, 3252, 3253, 3254, 3255, 3256, 3257, 3258, 3259, 3260, 3261, 3262, 3263, 3264, 3265, 3266, 3267, 3268, 3269, 3270, 3271, 3272, 3273, 3274, 3275, 3276, 3277, 3278, 3279, 3280, 3285, 3286, 3287, 3288, 3289, 3290, 3291, 3292, 3293, 3294, 3295, 3296, 3297, 3298, 3299, 3300, 3301, 3302, 3303, 3304, 3305, 3312, 3313, 3314, 3315, 3325, 3334, 3335, 3344, 3345, 3346, 3347, 3348, 3349, 3350, 3351, 3352, 3353, 3354, 3355, 3356, 3357, 3358, 3359, 3360, 3361, 3362, 3363, 3364, 3365, 3366, 3367, 3368, 3373, 3374, 3375, 3376, 3377, 3378, 3379, 3380, 3386, 3387, 3388, 3389, 3390, 3391, 3392, 3393, 3394, 3395, 3396, 3397, 3398, 3399, 3400, 3401, 3402, 3403, 3404, 3405, 3408, 3409, 3410, 3411, 3412, 3413, 3414, 3417, 3418, 3419, 3420, 3421, 3422, 3423, 3424, 3425, 3426, 3436, 3437, 3445, 3446, 3447, 3448, 3449, 3453, 3454, 3455, 3456, 3457, 3458, 3469, 3470, 3471, 3472, 3473, 3474, 3475, 3476, 3477, 3478, 3482, 3483, 3484, 3485, 3486, 3487, 3488, 3489, 3490, 3491, 3492, 3493, 3494, 3495, 3496, 3497, 3498, 3499, 3500, 3501, 3502, 3503, 3504, 3505, 3506, 3507, 3508, 3509, 3510, 3511, 3515, 3516, 3517, 3518, 3519, 3520, 3521, 3522, 3523, 3524, 3525, 3526, 3527, 3528, 3529, 3530, 3531, 3532, 3533, 3534, 3535, 3536, 3537, 3538, 3539, 3540, 3541, 3542, 3543, 3544, 3545, 3546, 3547, 3548, 3549, 3550, 3551, 3552, 3553, 3554, 3555, 3556, 3557, 3558, 3559, 3560, 3561, 3562, 3563, 3564, 3565, 3566, 3567, 3568, 3569, 3570, 3571, 3572, 3573, 3574, 3575, 3576, 3577, 3578, 3579, 3580, 3581, 3582, 3583, 3584, 3585, 3586, 3587, 3588, 3589, 3590, 3591, 3592, 3593, 3594, 3595, 3596, 3597, 3598, 3599, 3600, 3601, 3602, 3603, 3604, 3605, 3606, 3607, 3608, 3609, 3610, 3611, 3612, 3613, 3614, 3615, 3616, 3617, 3618, 3619, 3620, 3621, 3622, 3623, 3624, 3625, 3626, 3627, 3628, 3629, 3630, 3631, 3632, 3633, 3634, 3635, 3636, 3637, 3638, 3639, 3640, 3641, 3642, 3643, 3644, 3645, 3646, 3647, 3648, 3649, 3650, 3651, 3652, 3653, 3654, 3655, 3656, 3657, 3658, 3659, 3660, 3661, 3662, 3663, 3664, 3665, 3666, 3667, 3668, 3669, 3670, 3671, 3672, 3674, 3675, 3676, 3677, 3678, 3679, 3680, 3684, 3685, 3686, 3687, 3688, 3689, 3690, 3691, 3692, 3693, 3694, 3695, 3696, 3697, 3698, 3699, 3700, 3701, 3702, 3703, 3704, 3705, 3706, 3707, 3708, 3709, 3710, 3711, 3712, 3713, 3714, 3715, 3716, 3717, 3718, 3719, 3720, 3721, 3725, 3726, 3727, 3729, 3730, 3731, 3736, 3740, 3741, 3742, 3743, 3744, 3745, 3746, 3747, 3748, 3749, 3750, 3751, 3752, 3753, 3754, 3755, 3756, 3757, 3758, 3759, 3760, 3761, 3762, 3763, 3764, 3765, 3766, 3769, 3770, 3771, 3772, 3778, 3779, 3780, 3781, 3782, 3783, 3784, 3785, 3786, 3787, 3788, 3789, 3790, 3791, 3792, 3793, 3794, 3795, 3796, 3797, 3798, 3799, 3800, 3801, 3802, 3803, 3804, 3805, 3823, 3824, 3825, 3826, 3827, 3828, 3829, 3830, 3831, 3832, 3833, 3834, 3835, 3836, 3837, 3838, 3839, 3840, 3841, 3842, 3843, 3844, 3845, 3846, 3847, 3848, 3849, 3850, 3851, 3852, 3853, 3854, 3855, 3856, 3857, 3858, 3859, 3860, 3861, 3862, 3863, 3864, 3865, 3868, 3869, 3875, 3876, 3877, 3878, 3879, 3880, 3881, 3882, 3883, 3884, 3885, 3886, 3887, 3888, 3889, 3890, 3891, 3892, 3893, 3894, 3895, 3896, 3897, 3898, 3899, 3900, 3901, 3902, 3903, 3904, 3905, 3906, 3907, 3908, 3909, 3910, 3911, 3912, 3913, 3914, 3915, 3916, 3917, 3918, 3919, 3920, 3921, 3922, 3923, 3924, 3925, 3926, 3927, 3928, 3929, 3930, 3931, 3932, 3933, 3934, 3935, 3936, 3937, 3938, 3939, 3940, 3941, 3942, 3943, 3944, 3945, 3946, 3947, 3948, 3949, 3950, 3951, 3952, 3953, 3954, 3955, 3956, 3961, 3962, 3963, 3964, 3965, 3966, 3967, 3968, 3969, 3970, 3971, 3972, 3973, 3974, 3975, 3976, 3977, 3978, 3979, 3980, 3987, 3988, 3989, 3990, 3991, 3992, 3993, 3994, 3995, 3996, 3997, 3998, 3999, 4000, 4001, 4002, 4003, 4004, 4005, 4006, 4007, 4008, 4009, 4010, 4011, 4012, 4013, 4014, 4022, 4023, 4032, 4033, 4034, 4035, 4036, 4045, 4046, 4047, 4048, 4049, 4050, 4051, 4052, 4057, 4058, 4059, 4060, 4069, 4070, 4071, 4072, 4073, 4074, 4092, 4093, 4095, 4096, 4097, 4098, 4099, 4100, 4101, 4102, 4103, 4104, 4107, 4108, 4109, 4110, 4111, 4112, 4113, 4114, 4115, 4116, 4117, 4118, 4119, 4120, 4121, 4122, 4123, 4124, 4125, 4126, 4127, 4128, 4129, 4130, 4131, 4132, 4133, 4134, 4135, 4136, 4137, 4138, 4139, 4140, 4141, 4142, 4143, 4144, 4145, 4146, 4147, 4148, 4149, 4150, 4151, 4152, 4153, 4154, 4155, 4156, 4157, 4158, 4172, 4173, 4174, 4175, 4176, 4177, 4178, 4179, 4180, 4181, 4182, 4183, 4184, 4189, 4190, 4191, 4196, 4197, 4198, 4199, 4200, 4201, 4222, 4223, 4224, 4225, 4226, 4227, 4228, 4229, 4230, 4231, 4232, 4233, 4234, 4235, 4236, 4237, 4238, 4239, 4240, 4241, 4242, 4243, 4244, 4245, 4246, 4247, 4248, 4249, 4250, 4257, 4258, 4259, 4260, 4261, 4262, 4263, 4264, 4265, 4266, 4267, 4268, 4269, 4270, 4271, 4272, 4273, 4274, 4275, 4276, 4277, 4278, 4279, 4280, 4281, 4282, 4283, 4284, 4285, 4286, 4287, 4288, 4289, 4290, 4291, 4292, 4293, 4294, 4295, 4296, 4297, 4298, 4299, 4300, 4301, 4302, 4303, 4304, 4305, 4306, 4307, 4308, 4309, 4310, 4311, 4316, 4317, 4318, 4319, 4320, 4321, 4322, 4323, 4324, 4325, 4326, 4327, 4328, 4329, 4330, 4331, 4332, 4333, 4334, 4335, 4336, 4337, 4338, 4339, 4340, 4341, 4342, 4343, 4344, 4345, 4346, 4347, 4348, 4349, 4350, 4351, 4352, 4353, 4354, 4355, 4356, 4357, 4358, 4359, 4360, 4361, 4362, 4363, 4364, 4365, 4366, 4367, 4368, 4369, 4370, 4371, 4372, 4373, 4374, 4375, 4376, 4377, 4378, 4379, 4380, 4381, 4382, 4383, 4384, 4385, 4386, 4387, 4388, 4389, 4390, 4391, 4392, 4393, 4394, 4395, 4396, 4397, 4398, 4399, 4400, 4401, 4402, 4403, 4408, 4409, 4410, 4411, 4412, 4413, 4414, 4415, 4416, 4417, 4418, 4419, 4420, 4421, 4422, 4423, 4424, 4425, 4426, 4427, 4428, 4429, 4430, 4431, 4432, 4433, 4434, 4435, 4436, 4437, 4438, 4439, 4443, 4444, 4445, 4446, 4447, 4448, 4449, 4450, 4451, 4452, 4453, 4454, 4455, 4456, 4457, 4458, 4459, 4460, 4461, 4468, 4469, 4470, 4471, 4478, 4479, 4480, 4481, 4482, 4483, 4490, 4491, 4492, 4493, 4494, 4495, 4496, 4497, 4498, 4499, 4500, 4506, 4507, 4508, 4509, 4510, 4511, 4512, 4521, 4522, 5016, 5269, 5356, 5364, 5365, 5386, 5423, 5424, 5425, 5433, 5434, 5435, 5436, 5437, 5438, 5439, 5440, 5467, 5468, 5475, 5476, 5477, 5478, 5479, 5480, 5481, 5482, 5483, 5484, 5485, 5488, 5489, 5490, 5491, 5492, 5493, 5494, 5495, 5496, 5497, 5501, 5502, 5503, 5535, 5547, 5553, 5554, 5568, 5569, 5798, 5915, 6002, 6003, 6004, 6005, 6006, 6009, 6010, 6011, 6012, 6023, 6024, 6025, 6026, 6027, 6028, 6029, 6030, 6031, 6032, 6033, 6034, 6054, 6055, 6056, 6057, 6058, 6066, 6075, 6076, 6077, 6084, 6085, 6095, 6096, 6103, 6104, 6105, 6106, 6107, 6108, 6109, 6110, 6111, 6112, 6113, 6114, 6115, 6116, 6117, 6118, 6119, 6120, 6121, 6122, 6132, 6148, 6149, 6150, 6151, 6152, 6153, 6154, 6155, 6156, 6157, 6158, 6159, 6167, 6168, 6216, 6217, 6218, 6227, 6228, 6229, 6230, 6231, 6232, 6233, 6234, 6238, 6239, 6240, 6241, 6242, 6243, 6244, 6245, 6246, 6247, 6248, 6249, 6250, 6251, 6252, 6253, 6254, 6255, 6261, 6262, 6263, 6264, 6265, 6270, 6271, 6272, 6288, 6289, 6290, 6302, 6303, 6312, 6313, 6323, 6324, 6325, 6326, 6343, 6355, 6356, 6357, 6358, 6359, 6360, 6361, 6362, 6363, 6364, 6365, 6366, 6367, 6368, 6377, 6378, 6379, 6380, 6381, 6382, 6383, 6384, 6385, 6386, 6387, 6388, 6393, 6394, 6395, 6396, 6397, 6403, 6404, 6405, 6406, 6407, 6408, 6409, 6410, 6411, 6412, 6427, 6428, 6429, 6430, 6431, 6432, 6433, 6434, 6435, 6436, 6443, 6444, 6445, 6446, 6467, 6468, 6469, 6470, 6471, 6472, 6473, 6474, 6475, 6476, 6485, 6486, 6487, 6500, 6501, 6502, 6503, 6508, 6509, 6510, 6511, 6512, 6513, 6514, 6515, 6516, 6517, 6518, 6519, 6520, 6521, 6522, 6523, 6524, 6525, 6526, 6527, 6528, 6543, 6544, 6545, 6546, 6550, 6560, 6561, 6562, 6563, 6573, 6574, 6583, 6584, 6589, 6590, 6591, 6592, 6593, 6594, 6595, 6596, 6597, 6598, 6599, 6600, 6601, 6602, 6603, 6604, 6609, 6610, 6611, 6612, 6613, 6617, 6618, 6619, 6620, 6621, 6622, 6623, 6624, 6625, 6626, 6627, 6628, 6629, 6630, 6631, 6632, 6633, 6634, 6635, 6636, 6637, 6638, 6639, 6640, 6641, 6642, 6643, 6644, 6645, 6646, 6647, 6654, 6660, 6661, 6662, 6669, 6670, 6671, 6681, 6682, 6683, 6692, 6693, 6694, 6695, 6696, 6697, 6698, 6699, 6700, 6706, 6707, 6708, 6709, 6710, 6711, 6712, 6713, 6714, 6715, 6716, 6717, 6718, 6719, 6720, 6721, 6722, 6734, 6735, 6736, 6737, 6738, 6752, 6753, 6754, 6759, 6760, 6769, 6770, 6790, 6791, 6792, 6809, 6810, 6811, 6824, 6825, 6826, 6833, 6834, 6842, 6843, 6844, 6845, 6852, 6853, 6854, 6855, 6856, 6857, 6858, 6859, 6860, 6861, 6862, 6863, 6864, 6867, 6868, 6869, 6870, 6871, 6872, 6873, 6874, 6875, 6876, 6877, 6878, 6879, 6880, 6881, 6882, 6883, 6884, 6885, 6916, 6917, 6918, 6924, 6925, 6926, 6942, 6943, 6944, 6945, 6946, 6947, 6948, 6959, 6960, 6975, 6976, 6977, 6978, 6979, 6980, 6981, 6982, 6983, 6984, 6985, 6986, 6987, 6988, 6999, 7000, 7009, 7010, 7011, 7012, 7013, 7014, 7015, 7016, 7017, 7018, 7019, 7020, 7021, 7022, 7043, 7044, 7045, 7046, 7047, 7048, 7049, 7050, 7051, 7052, 7053, 7054, 7055, 7056, 7057, 7058, 7059, 7060, 7061, 7070, 7071, 7072, 7073, 7087, 7099, 7100, 7101, 7102, 7103, 7104, 7105, 7106, 7107, 7108, 7109, 7110, 7111, 7112, 7113, 7126, 7127, 7128, 7129, 7130, 7131, 7132, 7133, 7134, 7135, 7136, 7177, 7178, 7179, 7185, 7186, 7189, 7209, 7221, 7222, 7223, 7224, 7225, 7226, 7236, 7237, 7238, 7239, 7240, 7241, 7242, 7243, 7244, 7251, 7252, 7253, 7254, 7255, 7256, 7257, 7258, 7259, 7260, 7261, 7265, 7266, 7267, 7268, 7269, 7270, 7271, 7273, 7276, 7277, 7278, 7279, 7280, 7281, 7282, 7283, 7284, 7285, 7286, 7287, 7288, 7289, 7290, 7291, 7292, 7293, 7294, 7295, 7296, 7297, 7298, 7299, 7300, 7301, 7302, 7303, 7304, 7305, 7306, 7307, 7308, 7309, 7310, 7311, 7312, 7313, 7314, 7315, 7316, 7317, 7318, 7319, 7320, 7332, 7333, 7357, 7358, 7359, 7360, 7361, 7362, 7363, 7372, 7373, 7374, 7388, 7389, 7390, 7391, 7398, 7399, 7400, 7401, 7402, 7403, 7404, 7405, 7406, 7412, 7413, 7414, 7415, 7416, 7417, 7418, 7419, 7420, 7421, 7422, 7423, 7424, 7425, 7426, 7427, 7428, 7429, 7430, 7431, 7439, 7440, 7441, 7451, 7452, 7453, 7454, 7455, 7456, 7457, 7458, 7459, 7460, 7461, 7462, 7463, 7464, 7465, 7466, 7467, 7468, 7469, 7470, 7471, 7472, 7493, 7494, 7495, 7496, 7497, 7498, 7499, 7500, 7501, 7502, 7503, 7504, 7505, 7506, 7513, 7518, 7519, 7520, 7521, 7522, 7523, 7532, 7536, 7537, 7538, 7539, 7540, 7541, 7542, 7543, 7544, 7545, 7546, 7547, 7548, 7549, 7550, 7551, 7552, 7553, 7554, 7555, 7556, 7557, 7564, 7565, 7566, 7567, 7576, 7577, 7578, 7579, 7580, 7581, 7582, 7583, 7584, 7600, 7601, 7602, 7603, 7604, 7611, 7612, 7613, 7614, 7645, 7646, 7647, 7648, 7649, 7650, 7651, 7652, 7653, 7654, 7655, 7656, 7657, 7664, 7665, 7666, 7667, 7668, 7669, 7670, 7671, 7672, 7705, 7706, 7707, 7708, 7709, 7710, 7711, 7712, 7713, 7714, 7715, 7716, 7717, 7718, 7719, 7720, 7721, 7722, 7723, 7724, 7725, 7726, 7727, 7728, 7729, 8244, 8324, 8325, 8334, 8335, 8360, 8361, 8362, 8363, 8375, 8376, 8377, 8378, 8387, 8388, 8389, 8390, 8391, 8392, 8393, 8394, 8395, 8396, 8397, 8398, 8399, 8400, 8401, 8402, 8403, 8404, 8405, 8406, 8407, 8408, 8437, 8438, 8439, 8453, 8454, 8455, 8456, 8457, 8470, 8471, 8483, 8484, 8485, 8486, 8487, 8488, 8489, 8490, 8491, 8492, 8493, 8494, 8495, 8496, 8497, 8502, 8503, 8504, 8505, 8520, 8521, 8535, 8536, 8543, 8544, 8545, 8546, 8547, 8548, 8549, 8550, 8551, 8552, 8557, 8558, 8567, 8568, 8569, 8570, 8571, 8572, 8573, 8574, 8575, 8576, 8577, 8578, 8598, 8599, 8600, 8601, 8611, 8612, 8613, 8614, 8615, 8616, 8625, 8626, 8627, 8628, 8629, 8630, 8631, 8632, 8633, 8634, 8635, 8636, 8637, 8638, 8639, 8640, 8641, 8642, 8643, 8652, 8653, 8686, 8687, 8694, 8695, 8711, 8712, 8713, 8718, 8719, 8720, 8721, 8731, 8732, 8733, 8734, 8735, 8736, 8737, 8738, 8757, 8770, 8771, 8772, 8773, 8774, 8775, 8776, 8781, 8782, 8783, 8788, 8789, 8825, 8826, 8833, 8834, 8845, 8846, 8847, 8848, 8849, 8865, 8866, 8877, 8878, 8879, 8880, 8881, 8882, 8883, 8887, 8888, 8889, 8890, 8891, 8892, 8893, 8894, 8895, 8896, 8897, 8902, 8903, 8904, 8905, 8906, 8907, 8935, 8936, 8937, 8943, 8944, 8945, 8946, 8947, 8953, 8954, 8966, 8979, 8980, 8981, 8982, 8994, 8995, 8996, 8997, 8998, 8999, 9000, 9001, 9002, 9003, 9004, 9011, 9012, 9013, 9014, 9015, 9016, 9017, 9018, 9019, 9020, 9021, 9022, 9042, 9043, 9044, 9045, 9046, 9047, 9048, 9049, 9050, 9051, 9052, 9053, 9054, 9055, 9056, 9057, 9081, 9082, 9083, 9084, 9085, 9091, 9092, 9093, 9094, 9095, 9096, 9097, 9098, 9110, 9111, 9117, 9118, 9119, 9120, 9121, 9131, 9132, 9133, 9140, 9141, 9171, 9172, 9173, 9174, 9175, 9188, 9207, 9208, 9209, 9233, 9234, 9257, 9258, 9259, 9260, 9285, 9286, 9300, 9301, 9302, 9303, 9321, 9322, 9323, 9326, 9327, 9328, 9329, 9336, 9337, 9338, 9339, 9340, 9341, 9342, 9343, 9344, 9345, 9346, 9347, 9348, 9349, 9350, 9376, 9377, 9386, 9387, 9388, 9389, 9390, 9422, 9423, 9424, 9425, 9426, 9427, 9428, 9451, 9452, 9456, 9457, 9458, 9463, 9473, 9487, 9488, 9497, 9498, 9499, 9516, 9517, 9521, 9522, 9523, 9524, 9525, 9526, 9527, 9528, 9529, 9556, 9572, 9573, 9575, 9576, 9577, 9578, 9579, 9580, 9590, 9591, 9592, 9593, 9594, 9595, 9596, 9607, 9608, 9619, 9620, 9621, 9667, 9687, 9688, 9689, 9690, 9695, 9696, 9697, 9698, 9699, 9700, 9701, 9702, 9703, 9750, 9751, 9752, 9753, 9754, 9790, 9791, 9798, 9799, 9800, 9801, 9802, 9803, 9804, 9805, 9806, 9815, 9816, 9817, 9818, 9819, 9835, 9836, 9850, 9851, 9852, 9853, 9869, 9870, 9871, 9872, 9873, 9874, 9875, 9876, 9877, 9878, 9879, 9881, 9882, 9904, 9905, 9930, 9931, 9932, 9933, 9934, 9935, 9936, 9947, 9948, 9949, 9950, 9951, 9952, 9953, 9954, 9968, 9969, 9970, 9984, 9985, 9986, 10006, 10007, 10008, 10009, 10029, 10044, 10045, 10046]\n",
      "Current Velocity Guess: 0.09999999999999998 | Number of Possible Frames: 1904 | Possible Frames: [694, 695, 696, 724, 725, 737, 738, 739, 740, 741, 742, 743, 751, 752, 753, 754, 755, 756, 757, 758, 759, 760, 773, 774, 775, 776, 777, 778, 779, 780, 781, 782, 783, 784, 785, 786, 787, 788, 789, 790, 791, 792, 793, 805, 806, 807, 808, 819, 820, 821, 822, 823, 824, 825, 826, 827, 841, 842, 843, 844, 845, 866, 867, 868, 869, 870, 871, 872, 873, 874, 875, 876, 877, 878, 879, 880, 881, 882, 894, 901, 902, 903, 904, 905, 932, 948, 949, 950, 951, 952, 970, 971, 972, 973, 974, 978, 979, 982, 983, 984, 985, 986, 987, 988, 989, 990, 991, 992, 993, 994, 995, 996, 1008, 1009, 1010, 1021, 1022, 1023, 1024, 1032, 1033, 1034, 1035, 1036, 1037, 1045, 1052, 1053, 1054, 1055, 1056, 1057, 1058, 1064, 1065, 1066, 1067, 1068, 1075, 1076, 1077, 1078, 1079, 1080, 1081, 1082, 1083, 1084, 1087, 1088, 1089, 1090, 1091, 1092, 1093, 1097, 1098, 1099, 1100, 1101, 1102, 1106, 1107, 1108, 1109, 1110, 1111, 1112, 1113, 1114, 1115, 1116, 1117, 1118, 1119, 1120, 1121, 1122, 1123, 1124, 1125, 1126, 1127, 1133, 1134, 1135, 1136, 1146, 1147, 1148, 1153, 1154, 1155, 1156, 1157, 1158, 1168, 1185, 1186, 1187, 1188, 1203, 1204, 1205, 1206, 1207, 1208, 1218, 1219, 1220, 1237, 1238, 1239, 1240, 1241, 1248, 1249, 1250, 1251, 1252, 1253, 1260, 1261, 1262, 1263, 1264, 1265, 1266, 1267, 1268, 1269, 1270, 1271, 1272, 1273, 1274, 1275, 1276, 1277, 1278, 1279, 1280, 1281, 1282, 1283, 1284, 1285, 1286, 1287, 1288, 1289, 1290, 1301, 1302, 1303, 1304, 1305, 1306, 1307, 1308, 1309, 1310, 1311, 1317, 1318, 1330, 1331, 1340, 1341, 1342, 1348, 1349, 1350, 1351, 1352, 1353, 1354, 1355, 1356, 1357, 1358, 1359, 1360, 1361, 1362, 1363, 1364, 1365, 1366, 1367, 1383, 1384, 1392, 1393, 1394, 1395, 1396, 1397, 1398, 1399, 1407, 1408, 1409, 1417, 1418, 1419, 1420, 1421, 1422, 1426, 1427, 1428, 1433, 1434, 1435, 1461, 1462, 1467, 1468, 1469, 1470, 1476, 1477, 1478, 1479, 1480, 1481, 1482, 1483, 1484, 1485, 1486, 1493, 1498, 1499, 1500, 1515, 1516, 1517, 1518, 1519, 1520, 1521, 1522, 1523, 1530, 1531, 1532, 1541, 1542, 1543, 1544, 1545, 1546, 1547, 1548, 1549, 1550, 1556, 1557, 1558, 1559, 1566, 1579, 1580, 1581, 1587, 1588, 1604, 1605, 1606, 1607, 1608, 1609, 1610, 1611, 1637, 1638, 1639, 1640, 1641, 1642, 1648, 1649, 1650, 1651, 1652, 1653, 1654, 1655, 1656, 1657, 1658, 1659, 1660, 1661, 1662, 1663, 1664, 1665, 1666, 1676, 1677, 1678, 1703, 1704, 1705, 1714, 1715, 1716, 1717, 1748, 1749, 1750, 1751, 1752, 1753, 1754, 1764, 1765, 1766, 1767, 1768, 1769, 1770, 1776, 1777, 1778, 1779, 1786, 1787, 1788, 1789, 1797, 1798, 1808, 1824, 1845, 1858, 1859, 1860, 1872, 1873, 1874, 1875, 1876, 1890, 1891, 1892, 1902, 1903, 1904, 1905, 1906, 1920, 1921, 1922, 1923, 1924, 1925, 1926, 1932, 1933, 1934, 1935, 1936, 1937, 1938, 1939, 1940, 1941, 1942, 1943, 1944, 1945, 1947, 1948, 1949, 1950, 1951, 1956, 1957, 1958, 1959, 1960, 1961, 1974, 1975, 1976, 1977, 1978, 1979, 1980, 1981, 1982, 1989, 1990, 1991, 1992, 1993, 1994, 1995, 2003, 2004, 2005, 2006, 2007, 2008, 2009, 2010, 2011, 2012, 2013, 2014, 2015, 2016, 2017, 2018, 2019, 2020, 2021, 2022, 2023, 2024, 2025, 2026, 2027, 2028, 2029, 2030, 2031, 2032, 2033, 2034, 2035, 2036, 2037, 2038, 2039, 2040, 2041, 2042, 2043, 2044, 2045, 2046, 2047, 2048, 2049, 2050, 2057, 2058, 2059, 2060, 2061, 2085, 2086, 2087, 2088, 2089, 2092, 2093, 2094, 2095, 2096, 2097, 2098, 2099, 2100, 2101, 2102, 2114, 2115, 2116, 2117, 2118, 2119, 2120, 2121, 2122, 2129, 2130, 2131, 2132, 2133, 2134, 2135, 2136, 2137, 2138, 2139, 2158, 2159, 2160, 2161, 2162, 2163, 2164, 2165, 2166, 2167, 2168, 2169, 2170, 2171, 2181, 2182, 2183, 2184, 2185, 2186, 2187, 2206, 2207, 2208, 2209, 2210, 2211, 2212, 2213, 2214, 2215, 2216, 2217, 2218, 2233, 2234, 2235, 2247, 2248, 2249, 2250, 2251, 2263, 2264, 2274, 2275, 2286, 2287, 2288, 2289, 2296, 2297, 2298, 2299, 2304, 2305, 2306, 2325, 2326, 2327, 2328, 2329, 2330, 2331, 2332, 2333, 2334, 2335, 2345, 2346, 2347, 2348, 2353, 2354, 2355, 2568, 2788, 2789, 2802, 2803, 2804, 2817, 2818, 2819, 2820, 2821, 2822, 2823, 2824, 2825, 2826, 2827, 2828, 2829, 2830, 2831, 2832, 2883, 2884, 2885, 2886, 2887, 2888, 2889, 2890, 2891, 2896, 2897, 2918, 2919, 2920, 2921, 2929, 2930, 2931, 2947, 2948, 2957, 2958, 2985, 2986, 2987, 2993, 2994, 2995, 2996, 3004, 3005, 3006, 3007, 3008, 3009, 3010, 3011, 3012, 3013, 3014, 3015, 3016, 3017, 3018, 3019, 3028, 3029, 3030, 3031, 3032, 3034, 3035, 3036, 3037, 3038, 3039, 3040, 3041, 3042, 3043, 3044, 3045, 3046, 3047, 3048, 3049, 3050, 3051, 3061, 3062, 3063, 3064, 3072, 3073, 3074, 3075, 3076, 3077, 3078, 3079, 3080, 3081, 3082, 3083, 3084, 3085, 3095, 3096, 3097, 3098, 3099, 3100, 3101, 3102, 3103, 3104, 3105, 3106, 3107, 3108, 3109, 3110, 3111, 3112, 3113, 3114, 3115, 3116, 3139, 3140, 3141, 3142, 3158, 3171, 3172, 3173, 3174, 3175, 3187, 3188, 3189, 3190, 3201, 3202, 3203, 3208, 3209, 3210, 3211, 3212, 3213, 3214, 3215, 3216, 3217, 3218, 3219, 3220, 3221, 3222, 3223, 3232, 3233, 3234, 3235, 3236, 3237, 3238, 3239, 3240, 3241, 3242, 3243, 3244, 3245, 3246, 3247, 3248, 3249, 3250, 3251, 3252, 3253, 3254, 3255, 3256, 3257, 3258, 3259, 3260, 3261, 3262, 3263, 3264, 3265, 3266, 3267, 3269, 3270, 3271, 3272, 3273, 3274, 3275, 3276, 3277, 3278, 3279, 3290, 3291, 3292, 3293, 3294, 3300, 3301, 3302, 3303, 3313, 3314, 3325, 3334, 3346, 3347, 3348, 3361, 3362, 3363, 3364, 3365, 3366, 3376, 3377, 3378, 3387, 3388, 3389, 3390, 3391, 3392, 3393, 3394, 3395, 3396, 3397, 3398, 3399, 3400, 3411, 3412, 3446, 3447, 3455, 3456, 3471, 3472, 3473, 3474, 3475, 3476, 3485, 3486, 3487, 3488, 3489, 3490, 3491, 3492, 3493, 3498, 3499, 3500, 3501, 3502, 3503, 3519, 3520, 3521, 3522, 3523, 3527, 3528, 3529, 3530, 3534, 3535, 3536, 3537, 3538, 3539, 3540, 3541, 3542, 3543, 3544, 3545, 3546, 3547, 3548, 3549, 3550, 3551, 3552, 3555, 3556, 3557, 3558, 3559, 3560, 3561, 3562, 3563, 3564, 3565, 3566, 3567, 3568, 3569, 3570, 3571, 3572, 3573, 3574, 3575, 3576, 3577, 3578, 3579, 3580, 3581, 3582, 3583, 3584, 3585, 3586, 3588, 3589, 3590, 3591, 3592, 3593, 3594, 3595, 3596, 3597, 3598, 3599, 3605, 3606, 3607, 3608, 3609, 3610, 3611, 3612, 3613, 3614, 3615, 3616, 3617, 3618, 3619, 3623, 3627, 3628, 3629, 3630, 3631, 3632, 3633, 3634, 3635, 3636, 3637, 3638, 3639, 3640, 3641, 3642, 3643, 3644, 3645, 3646, 3652, 3653, 3654, 3655, 3656, 3657, 3658, 3659, 3660, 3661, 3662, 3663, 3664, 3665, 3666, 3667, 3668, 3669, 3678, 3686, 3687, 3688, 3689, 3690, 3691, 3692, 3693, 3694, 3695, 3696, 3697, 3698, 3699, 3705, 3706, 3707, 3708, 3709, 3710, 3711, 3712, 3713, 3714, 3715, 3716, 3717, 3718, 3719, 3742, 3743, 3744, 3745, 3746, 3747, 3748, 3753, 3754, 3755, 3759, 3760, 3761, 3762, 3763, 3764, 3771, 3779, 3780, 3781, 3782, 3783, 3784, 3785, 3786, 3787, 3788, 3789, 3790, 3791, 3792, 3793, 3794, 3795, 3796, 3797, 3798, 3799, 3800, 3801, 3802, 3803, 3804, 3825, 3826, 3827, 3828, 3829, 3840, 3841, 3842, 3843, 3844, 3845, 3846, 3847, 3848, 3849, 3850, 3851, 3852, 3853, 3854, 3855, 3862, 3863, 3876, 3877, 3878, 3879, 3880, 3881, 3882, 3883, 3884, 3885, 3900, 3901, 3902, 3909, 3910, 3911, 3912, 3913, 3914, 3915, 3916, 3917, 3918, 3919, 3920, 3927, 3928, 3929, 3930, 3931, 3937, 3938, 3939, 3949, 3950, 3951, 3952, 3953, 3954, 3963, 3964, 3965, 3966, 3967, 3971, 3972, 3973, 3974, 3975, 3976, 3977, 3978, 3979, 3988, 3989, 3990, 3991, 3992, 3995, 3996, 4000, 4001, 4002, 4003, 4004, 4005, 4006, 4007, 4008, 4009, 4010, 4011, 4012, 4034, 4035, 4047, 4048, 4049, 4050, 4051, 4072, 4111, 4112, 4113, 4114, 4120, 4121, 4122, 4123, 4124, 4125, 4126, 4127, 4128, 4129, 4130, 4131, 4132, 4133, 4134, 4135, 4136, 4137, 4138, 4139, 4140, 4141, 4142, 4143, 4144, 4145, 4146, 4147, 4148, 4149, 4154, 4155, 4156, 4157, 4173, 4174, 4175, 4176, 4177, 4178, 4179, 4198, 4199, 4200, 4226, 4227, 4228, 4229, 4230, 4231, 4232, 4233, 4238, 4239, 4240, 4241, 4242, 4243, 4244, 4245, 4246, 4260, 4261, 4262, 4268, 4269, 4270, 4271, 4281, 4282, 4283, 4284, 4285, 4286, 4287, 4288, 4289, 4290, 4291, 4292, 4293, 4303, 4304, 4305, 4306, 4307, 4308, 4309, 4317, 4318, 4319, 4320, 4321, 4322, 4323, 4324, 4325, 4326, 4327, 4339, 4340, 4341, 4342, 4343, 4344, 4345, 4346, 4347, 4348, 4349, 4350, 4351, 4352, 4353, 4354, 4355, 4356, 4357, 4363, 4364, 4365, 4366, 4367, 4368, 4369, 4370, 4371, 4372, 4373, 4374, 4375, 4376, 4377, 4378, 4379, 4380, 4381, 4383, 4387, 4388, 4389, 4390, 4391, 4399, 4400, 4411, 4412, 4413, 4414, 4415, 4421, 4422, 4423, 4424, 4431, 4432, 4433, 4434, 4435, 4436, 4437, 4445, 4446, 4447, 4448, 4449, 4450, 4451, 4452, 4453, 4454, 4455, 4456, 4457, 4458, 4459, 4495, 4496, 4497, 4498, 4499, 4507, 4508, 4509, 4510, 4522, 5016, 5424, 5433, 5434, 5435, 5436, 5437, 5438, 5439, 5491, 5568, 5569, 6027, 6028, 6031, 6032, 6055, 6056, 6076, 6104, 6105, 6106, 6110, 6111, 6112, 6113, 6114, 6115, 6116, 6117, 6118, 6119, 6120, 6121, 6150, 6151, 6168, 6217, 6244, 6245, 6246, 6247, 6248, 6249, 6250, 6251, 6252, 6253, 6262, 6263, 6264, 6364, 6365, 6366, 6367, 6379, 6380, 6381, 6408, 6409, 6410, 6411, 6428, 6429, 6486, 6501, 6502, 6517, 6519, 6520, 6521, 6522, 6523, 6524, 6525, 6545, 6561, 6562, 6591, 6592, 6593, 6594, 6599, 6600, 6601, 6610, 6611, 6612, 6619, 6620, 6621, 6622, 6623, 6624, 6625, 6626, 6627, 6628, 6629, 6630, 6631, 6632, 6633, 6638, 6639, 6640, 6661, 6662, 6670, 6671, 6696, 6697, 6698, 6699, 6708, 6709, 6713, 6714, 6715, 6718, 6719, 6720, 6809, 6810, 6843, 6844, 6856, 6857, 6858, 6859, 6860, 6861, 6871, 6872, 6873, 6874, 6917, 6918, 6977, 6978, 6979, 6980, 6981, 6982, 6983, 6984, 6985, 6986, 6987, 7012, 7013, 7014, 7015, 7016, 7017, 7018, 7019, 7020, 7021, 7045, 7046, 7047, 7048, 7049, 7050, 7051, 7052, 7053, 7054, 7055, 7056, 7057, 7071, 7072, 7100, 7101, 7102, 7103, 7111, 7112, 7127, 7128, 7132, 7133, 7134, 7135, 7178, 7225, 7237, 7238, 7253, 7254, 7255, 7256, 7257, 7267, 7268, 7289, 7290, 7296, 7297, 7298, 7299, 7300, 7301, 7302, 7304, 7305, 7306, 7307, 7308, 7309, 7310, 7311, 7312, 7313, 7314, 7319, 7360, 7361, 7362, 7389, 7390, 7405, 7414, 7415, 7416, 7417, 7418, 7419, 7420, 7421, 7422, 7427, 7428, 7429, 7430, 7440, 7456, 7462, 7463, 7464, 7465, 7466, 7467, 7468, 7469, 7470, 7494, 7495, 7496, 7497, 7498, 7504, 7520, 7521, 7522, 7540, 7541, 7553, 7554, 7555, 7556, 7565, 7566, 7602, 7603, 7612, 7613, 7614, 7645, 7646, 7647, 7648, 7649, 7652, 7653, 7654, 7655, 7665, 7666, 7667, 7706, 7707, 7708, 7709, 7715, 7716, 7717, 7718, 8324, 8335, 8360, 8361, 8362, 8376, 8377, 8396, 8397, 8398, 8405, 8406, 8438, 8454, 8455, 8456, 8485, 8491, 8492, 8493, 8494, 8495, 8496, 8505, 8544, 8545, 8546, 8547, 8548, 8549, 8550, 8568, 8569, 8570, 8571, 8572, 8573, 8574, 8575, 8576, 8577, 8599, 8600, 8613, 8626, 8627, 8628, 8629, 8630, 8631, 8632, 8633, 8634, 8635, 8636, 8733, 8734, 8735, 8736, 8737, 8775, 8865, 8866, 8878, 8879, 8880, 8881, 8882, 8888, 8889, 8890, 8891, 8892, 8893, 8894, 8895, 8903, 8904, 8905, 8946, 8980, 8999, 9000, 9016, 9017, 9018, 9019, 9020, 9021, 9042, 9043, 9049, 9050, 9051, 9052, 9053, 9054, 9055, 9056, 9082, 9083, 9084, 9092, 9093, 9094, 9095, 9096, 9131, 9132, 9172, 9173, 9174, 9175, 9208, 9300, 9301, 9321, 9322, 9327, 9338, 9340, 9341, 9342, 9343, 9344, 9347, 9388, 9389, 9423, 9424, 9425, 9426, 9451, 9452, 9473, 9498, 9526, 9527, 9528, 9577, 9578, 9579, 9607, 9619, 9620, 9702, 9752, 9753, 9800, 9801, 9802, 9803, 9804, 9816, 9817, 9818, 9835, 9836, 9870, 9871, 9872, 9873, 9874, 9875, 9876, 9877, 9931, 9932, 9933, 9934, 9949, 9950, 9951, 9952, 9953, 9969, 9970, 10006, 10007]\n",
      "Current Velocity Guess: -2.7755575615628914e-17 | Number of Possible Frames: 294 | Possible Frames: [753, 754, 755, 756, 792, 867, 868, 869, 972, 1034, 1089, 1090, 1108, 1109, 1110, 1111, 1112, 1113, 1114, 1115, 1116, 1117, 1118, 1119, 1155, 1156, 1186, 1187, 1250, 1262, 1263, 1264, 1268, 1275, 1288, 1289, 1303, 1304, 1305, 1306, 1350, 1397, 1398, 1483, 1484, 1485, 1517, 1518, 1519, 1606, 1607, 1608, 1638, 1639, 1640, 1641, 1653, 1654, 1655, 1656, 1657, 1663, 1664, 1665, 1766, 1767, 1768, 1769, 1859, 1874, 1892, 1903, 1904, 1922, 1923, 1924, 2011, 2012, 2013, 2014, 2015, 2046, 2047, 2048, 2117, 2118, 2160, 2161, 2162, 2163, 2184, 2185, 2186, 2215, 2216, 2249, 2250, 2329, 2330, 2331, 2332, 2333, 2347, 2823, 2824, 2825, 2826, 2827, 2828, 2829, 2830, 2887, 2888, 2889, 3014, 3015, 3016, 3017, 3075, 3080, 3081, 3082, 3083, 3097, 3098, 3099, 3100, 3114, 3236, 3237, 3240, 3241, 3242, 3243, 3244, 3245, 3246, 3247, 3248, 3249, 3260, 3261, 3262, 3263, 3264, 3273, 3274, 3275, 3276, 3277, 3302, 3314, 3391, 3392, 3473, 3474, 3521, 3536, 3537, 3538, 3539, 3540, 3541, 3542, 3543, 3548, 3576, 3577, 3578, 3579, 3580, 3611, 3612, 3613, 3635, 3636, 3637, 3638, 3639, 3654, 3655, 3656, 3668, 3788, 3789, 3790, 3826, 3827, 3842, 3843, 3911, 3912, 3928, 3929, 3951, 3952, 3953, 3964, 3965, 3973, 3974, 3975, 3989, 4048, 4049, 4050, 4122, 4132, 4136, 4229, 4241, 4242, 4243, 4244, 4284, 4285, 4306, 4307, 4318, 4319, 4341, 4342, 4344, 4455, 4456, 4457, 4458, 4497, 4498, 6112, 6113, 6114, 6115, 6116, 6117, 6247, 6248, 6249, 6250, 6409, 6410, 6521, 6611, 6630, 6631, 6632, 6670, 6698, 6980, 6981, 6982, 6983, 7048, 7416, 7417, 7418, 7419, 7467, 7468, 7495, 7496, 7521, 7522, 7613, 7646, 7654, 7706, 7707, 7708, 8361, 8493, 8494, 8570, 8571, 8627, 8628, 8632, 8633, 8634, 8735, 8736, 8889, 8890, 8891, 8904, 9052, 9053, 9054, 9173, 9174, 9424, 9620, 9802, 9933]\n",
      "Current Velocity Guess: 0.049999999999999975 | Number of Possible Frames: 294 | Possible Frames: [753, 754, 755, 756, 792, 867, 868, 869, 972, 1034, 1089, 1090, 1108, 1109, 1110, 1111, 1112, 1113, 1114, 1115, 1116, 1117, 1118, 1119, 1155, 1156, 1186, 1187, 1250, 1262, 1263, 1264, 1268, 1275, 1288, 1289, 1303, 1304, 1305, 1306, 1350, 1397, 1398, 1483, 1484, 1485, 1517, 1518, 1519, 1606, 1607, 1608, 1638, 1639, 1640, 1641, 1653, 1654, 1655, 1656, 1657, 1663, 1664, 1665, 1766, 1767, 1768, 1769, 1859, 1874, 1892, 1903, 1904, 1922, 1923, 1924, 2011, 2012, 2013, 2014, 2015, 2046, 2047, 2048, 2117, 2118, 2160, 2161, 2162, 2163, 2184, 2185, 2186, 2215, 2216, 2249, 2250, 2329, 2330, 2331, 2332, 2333, 2347, 2823, 2824, 2825, 2826, 2827, 2828, 2829, 2830, 2887, 2888, 2889, 3014, 3015, 3016, 3017, 3075, 3080, 3081, 3082, 3083, 3097, 3098, 3099, 3100, 3114, 3236, 3237, 3240, 3241, 3242, 3243, 3244, 3245, 3246, 3247, 3248, 3249, 3260, 3261, 3262, 3263, 3264, 3273, 3274, 3275, 3276, 3277, 3302, 3314, 3391, 3392, 3473, 3474, 3521, 3536, 3537, 3538, 3539, 3540, 3541, 3542, 3543, 3548, 3576, 3577, 3578, 3579, 3580, 3611, 3612, 3613, 3635, 3636, 3637, 3638, 3639, 3654, 3655, 3656, 3668, 3788, 3789, 3790, 3826, 3827, 3842, 3843, 3911, 3912, 3928, 3929, 3951, 3952, 3953, 3964, 3965, 3973, 3974, 3975, 3989, 4048, 4049, 4050, 4122, 4132, 4136, 4229, 4241, 4242, 4243, 4244, 4284, 4285, 4306, 4307, 4318, 4319, 4341, 4342, 4344, 4455, 4456, 4457, 4458, 4497, 4498, 6112, 6113, 6114, 6115, 6116, 6117, 6247, 6248, 6249, 6250, 6409, 6410, 6521, 6611, 6630, 6631, 6632, 6670, 6698, 6980, 6981, 6982, 6983, 7048, 7416, 7417, 7418, 7419, 7467, 7468, 7495, 7496, 7521, 7522, 7613, 7646, 7654, 7706, 7707, 7708, 8361, 8493, 8494, 8570, 8571, 8627, 8628, 8632, 8633, 8634, 8735, 8736, 8889, 8890, 8891, 8904, 9052, 9053, 9054, 9173, 9174, 9424, 9620, 9802, 9933]\n",
      "Current Velocity Guess: -2.7755575615628914e-17 | Number of Possible Frames: 25 | Possible Frames: [1116, 1304, 1484, 1639, 1640, 1664, 1923, 2047, 2185, 2186, 2888, 3082, 3098, 3262, 3314, 3537, 3538, 3539, 3952, 3974, 4242, 4243, 4306, 4456, 6611]\n",
      "Current Velocity Guess: 0.024999999999999974 | Number of Possible Frames: 25 | Possible Frames: [1116, 1304, 1484, 1639, 1640, 1664, 1923, 2047, 2185, 2186, 2888, 3082, 3098, 3262, 3314, 3537, 3538, 3539, 3952, 3974, 4242, 4243, 4306, 4456, 6611]\n"
     ]
    },
    {
     "data": {
      "application/vnd.jupyter.widget-view+json": {
       "model_id": "ed6c025bd039482babf2f1b51d957b8f",
       "version_major": 2,
       "version_minor": 0
      },
      "text/plain": [
       "Output()"
      ]
     },
     "metadata": {},
     "output_type": "display_data"
    },
    {
     "name": "stdout",
     "output_type": "stream",
     "text": [
      "Current Velocity Guess: -2.7755575615628914e-17 | Number of Possible Frames: 2 | Possible Frames: [3538, 6611]\n",
      "Current Velocity Guess: 0.012499999999999973 | Number of Possible Frames: 2 | Possible Frames: [3538, 6611]\n",
      "Current Velocity Guess: 0.018749999999999975 | Number of Possible Frames: 2 | Possible Frames: [3538, 6611]\n",
      "Current Velocity Guess: 0.021874999999999974 | Number of Possible Frames: 2 | Possible Frames: [3538, 6611]\n",
      "Good Frame: [6611] | Final Velocity Guess: 0.021874999999999974\n"
     ]
    },
    {
     "data": {
      "text/html": [
       "<pre style=\"white-space:pre;overflow-x:auto;line-height:normal;font-family:Menlo,'DejaVu Sans Mono',consolas,'Courier New',monospace\"></pre>\n"
      ],
      "text/plain": []
     },
     "metadata": {},
     "output_type": "display_data"
    },
    {
     "data": {
      "text/html": [
       "<pre style=\"white-space:pre;overflow-x:auto;line-height:normal;font-family:Menlo,'DejaVu Sans Mono',consolas,'Courier New',monospace\">\n",
       "</pre>\n"
      ],
      "text/plain": [
       "\n"
      ]
     },
     "metadata": {},
     "output_type": "display_data"
    },
    {
     "data": {
      "application/vnd.jupyter.widget-view+json": {
       "model_id": "8625333623ed4d2dba4e1cc51584502c",
       "version_major": 2,
       "version_minor": 0
      },
      "text/plain": [
       "Output()"
      ]
     },
     "metadata": {},
     "output_type": "display_data"
    },
    {
     "data": {
      "text/html": [
       "<pre style=\"white-space:pre;overflow-x:auto;line-height:normal;font-family:Menlo,'DejaVu Sans Mono',consolas,'Courier New',monospace\"></pre>\n"
      ],
      "text/plain": []
     },
     "metadata": {},
     "output_type": "display_data"
    },
    {
     "data": {
      "text/html": [
       "<pre style=\"white-space:pre;overflow-x:auto;line-height:normal;font-family:Menlo,'DejaVu Sans Mono',consolas,'Courier New',monospace\">\n",
       "</pre>\n"
      ],
      "text/plain": [
       "\n"
      ]
     },
     "metadata": {},
     "output_type": "display_data"
    },
    {
     "data": {
      "application/vnd.jupyter.widget-view+json": {
       "model_id": "faa8f004f41b4773b1b2ba520ab960c5",
       "version_major": 2,
       "version_minor": 0
      },
      "text/plain": [
       "Output()"
      ]
     },
     "metadata": {},
     "output_type": "display_data"
    },
    {
     "data": {
      "text/html": [
       "<pre style=\"white-space:pre;overflow-x:auto;line-height:normal;font-family:Menlo,'DejaVu Sans Mono',consolas,'Courier New',monospace\"></pre>\n"
      ],
      "text/plain": []
     },
     "metadata": {},
     "output_type": "display_data"
    },
    {
     "data": {
      "text/html": [
       "<pre style=\"white-space:pre;overflow-x:auto;line-height:normal;font-family:Menlo,'DejaVu Sans Mono',consolas,'Courier New',monospace\">\n",
       "</pre>\n"
      ],
      "text/plain": [
       "\n"
      ]
     },
     "metadata": {},
     "output_type": "display_data"
    },
    {
     "data": {
      "application/vnd.jupyter.widget-view+json": {
       "model_id": "3cca34a446f44c9aaf601b2425ac775c",
       "version_major": 2,
       "version_minor": 0
      },
      "text/plain": [
       "Output()"
      ]
     },
     "metadata": {},
     "output_type": "display_data"
    },
    {
     "name": "stdout",
     "output_type": "stream",
     "text": [
      "Calculating COM\n"
     ]
    },
    {
     "data": {
      "text/html": [
       "<pre style=\"white-space:pre;overflow-x:auto;line-height:normal;font-family:Menlo,'DejaVu Sans Mono',consolas,'Courier New',monospace\"></pre>\n"
      ],
      "text/plain": []
     },
     "metadata": {},
     "output_type": "display_data"
    },
    {
     "data": {
      "text/html": [
       "<pre style=\"white-space:pre;overflow-x:auto;line-height:normal;font-family:Menlo,'DejaVu Sans Mono',consolas,'Courier New',monospace\">\n",
       "</pre>\n"
      ],
      "text/plain": [
       "\n"
      ]
     },
     "metadata": {},
     "output_type": "display_data"
    },
    {
     "data": {
      "application/vnd.jupyter.widget-view+json": {
       "model_id": "1be2c4597b7c4d8b8ae6bf92c69763e6",
       "version_major": 2,
       "version_minor": 0
      },
      "text/plain": [
       "Output()"
      ]
     },
     "metadata": {},
     "output_type": "display_data"
    },
    {
     "data": {
      "text/html": [
       "<pre style=\"white-space:pre;overflow-x:auto;line-height:normal;font-family:Menlo,'DejaVu Sans Mono',consolas,'Courier New',monospace\"></pre>\n"
      ],
      "text/plain": []
     },
     "metadata": {},
     "output_type": "display_data"
    },
    {
     "data": {
      "text/html": [
       "<pre style=\"white-space:pre;overflow-x:auto;line-height:normal;font-family:Menlo,'DejaVu Sans Mono',consolas,'Courier New',monospace\">\n",
       "</pre>\n"
      ],
      "text/plain": [
       "\n"
      ]
     },
     "metadata": {},
     "output_type": "display_data"
    },
    {
     "data": {
      "application/vnd.jupyter.widget-view+json": {
       "model_id": "1b9466cef3ef4283a02fdb70035c9d44",
       "version_major": 2,
       "version_minor": 0
      },
      "text/plain": [
       "Output()"
      ]
     },
     "metadata": {},
     "output_type": "display_data"
    },
    {
     "data": {
      "text/html": [
       "<pre style=\"white-space:pre;overflow-x:auto;line-height:normal;font-family:Menlo,'DejaVu Sans Mono',consolas,'Courier New',monospace\"></pre>\n"
      ],
      "text/plain": []
     },
     "metadata": {},
     "output_type": "display_data"
    },
    {
     "data": {
      "text/html": [
       "<pre style=\"white-space:pre;overflow-x:auto;line-height:normal;font-family:Menlo,'DejaVu Sans Mono',consolas,'Courier New',monospace\">\n",
       "</pre>\n"
      ],
      "text/plain": [
       "\n"
      ]
     },
     "metadata": {},
     "output_type": "display_data"
    }
   ],
   "source": [
    "## Set paths and load data\n",
    "freemocap_data_folder_path = Path(r'D:\\ValidationStudy2022\\FreeMocap_Data')\n",
    "#sessionID = 'sesh_2022-05-24_15_55_40_JSM_T1_BOS' #name of the sessionID folder\n",
    "sessionID = 'sesh_2022-05-24_16_02_53_JSM_T1_NIH'\n",
    "data_array_path = freemocap_data_folder_path/sessionID/'DataArrays'\n",
    "freemocap_marker_data_array = np.load(data_array_path/'mediaPipeSkel_3d.npy')\n",
    "\n",
    "\n",
    "print('Interpolating and Filtering Data')\n",
    "\n",
    "#Interpolate the data\n",
    "freemocap_interpolated_data = interpolate_freemocap_data(freemocap_marker_data_array)\n",
    "\n",
    "#Filter the data, set the filtering options here \n",
    "sampling_rate = 29.970857503650052\n",
    "cutoff = 2\n",
    "order = 4 \n",
    "freemocap_filtered_marker_data = filter_skeleton(freemocap_interpolated_data,cutoff, sampling_rate, order)\n",
    "np.save(data_array_path/'mediaPipeSkel_3d_filtered', freemocap_filtered_marker_data)\n",
    "\n",
    "#add the good frame finder\n",
    "\n",
    "\n",
    "#Align the data\n",
    "print('Aligning Data with Origin')\n",
    "good_frame = find_good_frame(freemocap_filtered_marker_data,mediapipe_indices,.3)\n",
    "freemocap_alignment_marker_data_tuple = align_skeleton_with_origin(freemocap_filtered_marker_data, mediapipe_indices, good_frame)\n",
    "origin_aligned_freemocap_marker_data = freemocap_alignment_marker_data_tuple[0]\n",
    "np.save(data_array_path/'mediaPipeSkel_3d_origin_aligned', origin_aligned_freemocap_marker_data) \n",
    "\n",
    "#Calculate segment and total body COM\n",
    "print('Calculating COM')\n",
    "anthropometric_info_dataframe = build_anthropometric_dataframe(segments,joint_connections,segment_COM_lengths,segment_COM_percentages)\n",
    "skelcoordinates_frame_segment_joint_XYZ = build_mediapipe_skeleton(origin_aligned_freemocap_marker_data,anthropometric_info_dataframe,mediapipe_indices)\n",
    "segment_COM_frame_dict,segment_COM_frame_imgPoint_XYZ,totalBodyCOM_frame_XYZ = run(origin_aligned_freemocap_marker_data,skelcoordinates_frame_segment_joint_XYZ, anthropometric_info_dataframe) \n",
    "\n",
    "np.save(data_array_path/'segmentedCOM_frame_joint_XYZ.npy', segment_COM_frame_imgPoint_XYZ)\n",
    "np.save(data_array_path/'totalBodyCOM_frame_XYZ.npy',totalBodyCOM_frame_XYZ)\n",
    "open_file = open(data_array_path/'mediapipe_skeleton_segments_dict.pkl', \"wb\")\n",
    "pickle.dump(skelcoordinates_frame_segment_joint_XYZ, open_file)\n",
    "open_file.close()\n",
    "#Save filtered data here\n"
   ]
  }
 ],
 "metadata": {
  "kernelspec": {
   "display_name": "Python 3.9.13 ('validation_req_test')",
   "language": "python",
   "name": "python3"
  },
  "language_info": {
   "codemirror_mode": {
    "name": "ipython",
    "version": 3
   },
   "file_extension": ".py",
   "mimetype": "text/x-python",
   "name": "python",
   "nbconvert_exporter": "python",
   "pygments_lexer": "ipython3",
   "version": "3.9.13"
  },
  "orig_nbformat": 4,
  "vscode": {
   "interpreter": {
    "hash": "cebf9e452051950f5db6f9bf61a22d959bf2fa37e24565cbafeb131ea8ea609e"
   }
  }
 },
 "nbformat": 4,
 "nbformat_minor": 2
}
