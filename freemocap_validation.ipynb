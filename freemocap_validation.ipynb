{
 "cells": [
  {
   "cell_type": "code",
   "execution_count": 3,
   "metadata": {},
   "outputs": [],
   "source": [
    "import numpy as np\n",
    "import pandas as pd\n",
    "import matplotlib.pyplot as plt\n",
    "from pathlib import Path \n",
    "from rich import inspect"
   ]
  },
  {
   "cell_type": "code",
   "execution_count": 4,
   "metadata": {},
   "outputs": [],
   "source": [
    "## Build'n'Load Stuff (paths and arrays)\n",
    "freemocap_validation_data_path = Path(r'I:\\My Drive\\HuMoN_Research_Lab\\FreeMoCap_Balance_Validation\\data')\n",
    "sessionID = 'session_SER_1_20_22'\n",
    "this_freemocap_session_path = freemocap_validation_data_path / sessionID\n",
    "this_freemocap_data_path = this_freemocap_session_path/'DataArrays'\n",
    "mediaPipe_data_path = this_freemocap_data_path / 'mediaPipeSkel_3d_smoothed.npy'"
   ]
  },
  {
   "cell_type": "code",
   "execution_count": 5,
   "metadata": {},
   "outputs": [],
   "source": [
    "\n",
    "mediaPipeSkel_fr_mar_dim = np.load(mediaPipe_data_path)"
   ]
  },
  {
   "cell_type": "code",
   "execution_count": 6,
   "metadata": {},
   "outputs": [],
   "source": [
    "good_frame = 10439\n",
    "mediapipe_good_frame_data = mediaPipeSkel_fr_mar_dim[good_frame,:,:]\n",
    "skel_x = mediapipe_good_frame_data[:,0]\n",
    "skel_y = mediapipe_good_frame_data[:,1]\n",
    "skel_z = mediapipe_good_frame_data[:,2]"
   ]
  },
  {
   "cell_type": "code",
   "execution_count": 7,
   "metadata": {},
   "outputs": [
    {
     "name": "stdout",
     "output_type": "stream",
     "text": [
      "Using matplotlib backend: QtAgg\n"
     ]
    },
    {
     "data": {
      "text/plain": [
       "<matplotlib.pyplot._IonContext at 0x15b7822ef70>"
      ]
     },
     "execution_count": 7,
     "metadata": {},
     "output_type": "execute_result"
    }
   ],
   "source": [
    "%matplotlib\n",
    "plt.ion()"
   ]
  },
  {
   "cell_type": "code",
   "execution_count": 11,
   "metadata": {},
   "outputs": [],
   "source": [
    "figure = plt.figure()\n",
    "ax = figure.add_subplot(111, projection='3d')\n",
    "# inspect(ax,methods= True)"
   ]
  },
  {
   "cell_type": "code",
   "execution_count": 13,
   "metadata": {},
   "outputs": [],
   "source": [
    "ax.scatter(skel_x, skel_y, skel_z)\n",
    "plt.show()"
   ]
  },
  {
   "cell_type": "code",
   "execution_count": null,
   "metadata": {},
   "outputs": [],
   "source": []
  },
  {
   "cell_type": "code",
   "execution_count": null,
   "metadata": {},
   "outputs": [],
   "source": []
  },
  {
   "cell_type": "code",
   "execution_count": null,
   "metadata": {},
   "outputs": [],
   "source": []
  }
 ],
 "metadata": {
  "interpreter": {
   "hash": "7209b8a8ab0da4d5958b83431eabd032171675b01e745e5357f6d1999f297cfd"
  },
  "kernelspec": {
   "display_name": "Python 3.9.0 64-bit ('fmc_validation': conda)",
   "language": "python",
   "name": "python3"
  },
  "language_info": {
   "codemirror_mode": {
    "name": "ipython",
    "version": 3
   },
   "file_extension": ".py",
   "mimetype": "text/x-python",
   "name": "python",
   "nbconvert_exporter": "python",
   "pygments_lexer": "ipython3",
   "version": "3.9.0"
  },
  "orig_nbformat": 4
 },
 "nbformat": 4,
 "nbformat_minor": 2
}
